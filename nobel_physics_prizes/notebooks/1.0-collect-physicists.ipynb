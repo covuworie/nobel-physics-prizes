{
 "cells": [
  {
   "cell_type": "markdown",
   "metadata": {},
   "source": [
    "# Collect Physicists\n",
    "\n",
    "For this project, I need a list of physicists who are notable for their achievements. Wikipedia contains two such lists, one general [list of physicists](https://en.wikipedia.org/wiki/List_of_physicists) and another list of [theoretical physicists](https://en.wikipedia.org/wiki/List_of_theoretical_physicists). I will scrape these lists and unify them into a single list. It is important to recognize that some of these physicists have won the *Nobel Prize* and some have not and also that some are *dead* and some are *alive*. You should at least recognize a few of the more famous names in the list even if you do not recognize them all. The entire analysis of this project will be based on the data that is acquired on these physicists. OK time to get scraping."
   ]
  },
  {
   "cell_type": "markdown",
   "metadata": {},
   "source": [
    "## Setting the Environment\n",
    "\n",
    "A few initialization steps are needed to setup the environment:\n",
    "\n",
    "- The top-level module directory of the repository needs to be added to the system path to enable the loading of python modules.\n",
    "- The locale needs to be set for all categories to the user’s default setting (typically specified in the LANG environment variable) to enable correct sorting of physicists names with accents."
   ]
  },
  {
   "cell_type": "code",
   "execution_count": null,
   "metadata": {},
   "outputs": [],
   "source": [
    "import locale\n",
    "import sys\n",
    "\n",
    "repo_dir = '../'\n",
    "if repo_dir not in sys.path:\n",
    "    sys.path.append(repo_dir)\n",
    "\n",
    "locale.setlocale(locale.LC_ALL, '')"
   ]
  },
  {
   "cell_type": "code",
   "execution_count": null,
   "metadata": {},
   "outputs": [],
   "source": [
    "import string\n",
    "import time\n",
    "\n",
    "import numpy as np\n",
    "from bs4 import BeautifulSoup\n",
    "\n",
    "from src.data.url_utils import urls_progress_bar\n",
    "from src.data.wiki_utils import BLACKLIST_LINKS\n",
    "from src.data.wiki_utils import FORCED_REDIRECTS\n",
    "from src.data.wiki_utils import SECTION_TITLES\n",
    "from src.data.wiki_utils import WIKI_OLD_URL\n",
    "from src.data.wiki_utils import get_linked_article_titles\n",
    "from src.data.wiki_utils import get_redirected_titles"
   ]
  },
  {
   "cell_type": "markdown",
   "metadata": {},
   "source": [
    "## Scraping the Physicists\n",
    "\n",
    "I use a combination of *requests* and *beautifulsoup* to scrape the links from the Wikipedia pages. I filter the list of links down to only those containing physicist names. The important point to note is that I actually need to send HTTP requests to fetch the pages associated with these links as some of them are redirected to different URLs. The really tricky part is that the redirects are done via javascript so they are not detected by *requests*. As a result I have to parse the javascript to find the redirect link.\n",
    "\n",
    "Even after all of this, some of the redirected Wikipedia links are not in sync with the DBpedia links. This means that when I later try to fetch the data from DBpedia, the links resolve the the wrong resource. So I force these redirects manually here. "
   ]
  },
  {
   "cell_type": "code",
   "execution_count": null,
   "metadata": {},
   "outputs": [],
   "source": [
    "def get_notable_physicists(progress_bar=None):\n",
    "    \"\"\"Get a list of notable physicists.\n",
    "    Args:\n",
    "        progress_bar (progressbar.ProgressBar): Progress bar.\n",
    "\n",
    "    Returns:\n",
    "        list (str): List of names of notable physicists.\n",
    "\n",
    "    \"\"\"\n",
    "\n",
    "    # get the theoretical physicists\n",
    "    theoretical_physicists = get_linked_article_titles(\n",
    "        WIKI_OLD_URL + 'List_of_theoretical_physicists&oldid=855745137',\n",
    "        section_titles=SECTION_TITLES\n",
    "    )\n",
    "    assert(len(theoretical_physicists) == 266)\n",
    "\n",
    "    # get the physicists\n",
    "    physicists = get_linked_article_titles(\n",
    "        WIKI_OLD_URL + 'List_of_physicists&oldid=861832841',\n",
    "        section_titles=list(string.ascii_uppercase),\n",
    "        blacklist_links=BLACKLIST_LINKS\n",
    "    )\n",
    "    assert(len(physicists) == 976)\n",
    "    assert(not set(BLACKLIST_LINKS).intersection(set(physicists)))\n",
    "\n",
    "    # merge the lists\n",
    "    notable_physicists = list(set(theoretical_physicists + physicists))\n",
    "\n",
    "    # get the redirect title (if any) from a HTTP request\n",
    "    notable_physicists = get_redirected_titles(\n",
    "        notable_physicists,\n",
    "        forced_redirects=FORCED_REDIRECTS,\n",
    "        max_workers=20,\n",
    "        progress_bar=progress_bar)\n",
    "    assert(set(FORCED_REDIRECTS.values()).intersection(\n",
    "        set(notable_physicists.values())))\n",
    "\n",
    "    # remove duplicates, sort and return list\n",
    "    notable_physicists = list(set(notable_physicists.values()))\n",
    "    notable_physicists.sort(key=locale.strxfrm)\n",
    "    return notable_physicists"
   ]
  },
  {
   "cell_type": "code",
   "execution_count": null,
   "metadata": {},
   "outputs": [],
   "source": [
    "NUM_URLS = 1085\n",
    "notable_physicists = get_notable_physicists(urls_progress_bar(NUM_URLS))"
   ]
  },
  {
   "cell_type": "markdown",
   "metadata": {},
   "source": [
    "Let's check that there are no duplicate names and how many names we got."
   ]
  },
  {
   "cell_type": "code",
   "execution_count": null,
   "metadata": {},
   "outputs": [],
   "source": [
    "assert(len(notable_physicists) == 1060)\n",
    "len(notable_physicists)"
   ]
  },
  {
   "cell_type": "code",
   "execution_count": null,
   "metadata": {},
   "outputs": [],
   "source": [
    "assert(len(np.unique(notable_physicists)) == len(notable_physicists))\n",
    "len(notable_physicists)"
   ]
  },
  {
   "cell_type": "markdown",
   "metadata": {},
   "source": [
    "Let's write the list to a file for future use and check the list of names. "
   ]
  },
  {
   "cell_type": "code",
   "execution_count": null,
   "metadata": {},
   "outputs": [],
   "source": [
    "with open('../data/raw/physicists.txt', mode='w', encoding='utf-8') as file:\n",
    "    file.writelines('\\n'.join(notable_physicists))"
   ]
  },
  {
   "cell_type": "code",
   "execution_count": null,
   "metadata": {},
   "outputs": [],
   "source": [
    "%pycat ../data/raw/physicists.txt"
   ]
  },
  {
   "cell_type": "markdown",
   "metadata": {},
   "source": [
    "## Cleaning Up\n",
    "\n",
    "A clean up step is needed:\n",
    "\n",
    "- Remove the top-level module directory of the repository from the system path."
   ]
  },
  {
   "cell_type": "code",
   "execution_count": null,
   "metadata": {},
   "outputs": [],
   "source": [
    "sys.path.remove(repo_dir)"
   ]
  }
 ],
 "metadata": {
  "kernelspec": {
   "display_name": "Python 3",
   "language": "python",
   "name": "python3"
  },
  "language_info": {
   "codemirror_mode": {
    "name": "ipython",
    "version": 3
   },
   "file_extension": ".py",
   "mimetype": "text/x-python",
   "name": "python",
   "nbconvert_exporter": "python",
   "pygments_lexer": "ipython3",
   "version": "3.6.5"
  }
 },
 "nbformat": 4,
 "nbformat_minor": 2
}
