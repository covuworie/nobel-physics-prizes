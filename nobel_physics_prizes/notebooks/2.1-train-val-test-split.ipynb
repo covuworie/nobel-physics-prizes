{
 "cells": [
  {
   "cell_type": "markdown",
   "metadata": {},
   "source": [
    "# Train-Validation-Test Split\n",
    "\n",
    "The [physicists dataframe](../data/interim/physicists.csv) consists of a list of great physicists from the Ancient Greeks to modern times. We would like to reduce this to a list of modern physicists who were eligible to be awarded the Nobel Prize in Physics. To be more precise, the Nobel Prize in Physics was first awarded on **10 December 1901** on the anniversary of *Alfred Nobel's* death. The prize has been awarded on the anniversary of his death every year since, excluding the few years in which no prize was awarded. Essentially, we would like a list of physicists who were alive on and after this date. Some of these physicists are deceased and some are alive.\n",
    "\n",
    "Since the Nobel Prize in Physics cannot be awarded posthumously and the goal is to develop a model to predict laureates, it makes sense to form a **training set** that consists of deceased physicists and a **test set** and **validation set** that both consist of living physicists. We choose to use a validation set for model selection instead of cross-validation as the later is not appropriate due to this \"pseudo-time component\" of the data."
   ]
  },
  {
   "cell_type": "code",
   "execution_count": null,
   "metadata": {},
   "outputs": [],
   "source": [
    "from datetime import datetime\n",
    "\n",
    "import pandas as pd"
   ]
  },
  {
   "cell_type": "markdown",
   "metadata": {},
   "source": [
    "## Exploratory Analysis of Physicists Birth and Death Dates\n",
    "\n",
    "First let's read in the physicists data into a pandas dataframe and take a look at it."
   ]
  },
  {
   "cell_type": "code",
   "execution_count": null,
   "metadata": {},
   "outputs": [],
   "source": [
    "physicists = pd.read_csv('../data/interim/physicists.csv')\n",
    "physicists.head(30)"
   ]
  },
  {
   "cell_type": "markdown",
   "metadata": {},
   "source": [
    "We can see that there are two issues:\n",
    "\n",
    "1. Missing birth and death dates.\n",
    "2. Death dates equal to birth dates."
   ]
  },
  {
   "cell_type": "code",
   "execution_count": null,
   "metadata": {},
   "outputs": [],
   "source": [
    "dates_names = ['birthDate', 'deathDate', 'fullName']\n",
    "physicists[physicists.birthDate.isna() |\n",
    "           (physicists.birthDate == physicists.deathDate) |\n",
    "           (physicists.deathDate.isna() & physicists.categories.str.contains(\n",
    "               'death'))][dates_names]"
   ]
  },
  {
   "cell_type": "markdown",
   "metadata": {},
   "source": [
    "The second issue is due to poor validation of data in DBpedia. Since these physicists are deceased, the death dates just need to be corrected.\n",
    "\n",
    "For the first issue, let's examine exactly whose birth dates are missing. Interestingly, *Pythagoras* is the most famous name here, so it's likely that this is a list of modern physicists. Reading some of the abstracts in the dataframe and performing a Google search on some of these physicists confirms the suspicion. Rather than just dropping them and losing valuable data, we would like to see if we can find out their dates of birth. A combination of the following allows us to *impute* exact or sufficiently accurate approximate values for most of the missing birth and death dates for the physicists:\n",
    "\n",
    "- Searching the **abstract field** of the dataframe\n",
    "- Looking at the **Google Knowledge Graph** results provided from a Google search\n",
    "- Looking to see if an **approximate date** is provided in the [list of physicists](https://en.wikipedia.org/w/index.php?title=List_of_physicists&oldid=864677795) or [list of theoretical physicists](https://en.wikipedia.org/w/index.php?title=List_of_theoretical_physicists&oldid=855745137)\n",
    "- Examining their online **homepages** and **resumes** for *dates or birth* or *dates of degrees* "
   ]
  },
  {
   "cell_type": "code",
   "execution_count": null,
   "metadata": {},
   "outputs": [],
   "source": [
    "def impute_birth_dates(physicists):\n",
    "    imputed = physicists.copy()\n",
    "    imputed.loc[imputed.fullName == 'Alejandro Corichi',\n",
    "                'birthDate'] = str(datetime(1967, 11, 2).date())\n",
    "    imputed.loc[imputed.fullName == 'Amanda Barnard',\n",
    "                'birthDate'] = str(datetime(1971, 12, 31).date())\n",
    "    imputed.loc[imputed.fullName == 'B. Roy Frieden',\n",
    "                'birthDate'] = str(datetime(1936, 9, 10).date())\n",
    "    imputed.loc[imputed.fullName == 'Carlos E.M. Wagner',\n",
    "                'birthDate'] = str(datetime(1962, 1, 1).date())\n",
    "    imputed.loc[imputed.fullName == 'Charlotte Riefenstahl',\n",
    "                'deathDate'] = str(datetime(1993, 1, 6).date())\n",
    "    imputed.loc[imputed.fullName == 'Chennupati Jagadish',\n",
    "                'birthDate'] = str(datetime(1957, 8, 10).date())\n",
    "    imputed.loc[imputed.fullName == 'Craige Schensted',\n",
    "                'birthDate'] = str(datetime(1928, 1, 1).date())\n",
    "    imputed.loc[imputed.fullName == 'David Bohm',\n",
    "                'deathDate'] = str(datetime(1992, 10, 27).date())\n",
    "    imputed.loc[imputed.fullName == 'Denis Weaire',\n",
    "                'birthDate'] = str(datetime(1942, 10, 17).date())\n",
    "    imputed.loc[imputed.fullName == 'Eric Poisson',\n",
    "                'birthDate'] = str(datetime(1965, 7, 26).date())\n",
    "    imputed.loc[imputed.fullName == 'Gaetano Vignola',\n",
    "                'birthDate'] = str(datetime(1947, 1, 1).date())\n",
    "    imputed.loc[imputed.fullName == 'George W. Clark',\n",
    "                'birthDate'] = str(datetime(1928, 1, 1).date())\n",
    "    imputed.loc[imputed.fullName == 'Gerald B. Cleaver',\n",
    "                'birthDate'] = str(datetime(1963, 1, 1).date())\n",
    "    imputed.loc[imputed.fullName == 'James E. Faller',\n",
    "                'birthDate'] = str(datetime(1934, 1, 17).date())\n",
    "    imputed.loc[imputed.fullName == 'James W. LaBelle',\n",
    "                'birthDate'] = str(datetime(1958, 6, 21).date())\n",
    "    imputed.loc[imputed.fullName == 'Johannes Fischer',\n",
    "                'deathDate'] = str(datetime(1977, 1, 1).date())\n",
    "    imputed.loc[imputed.fullName == 'John Archibald Wheeler',\n",
    "                'deathDate'] = str(datetime(2008, 4, 13).date())\n",
    "    imputed.loc[imputed.fullName == 'Kathryn Moler',\n",
    "                'birthDate'] = str(datetime(1965, 1, 1).date())\n",
    "    imputed.loc[imputed.fullName == 'Kenneth Young',\n",
    "                'birthDate'] = str(datetime(1947, 1, 1).date())\n",
    "    imputed.loc[imputed.fullName == 'Laura Mersini-Houghton',\n",
    "                'birthDate'] = str(datetime(1969, 1, 1).date())\n",
    "    imputed.loc[imputed.fullName == 'Marcia Barbosa',\n",
    "                'birthDate'] = str(datetime(1960, 1, 14).date())\n",
    "    imputed.loc[imputed.fullName == 'Mark G. Raizen',\n",
    "                'birthDate'] = str(datetime(1955, 1, 1).date())\n",
    "    imputed.loc[imputed.fullName == 'Mehran Kardar',\n",
    "                'birthDate'] = str(datetime(1958, 1, 1).date())\n",
    "    imputed.loc[imputed.fullName == 'Oleg Sushkov',\n",
    "                'birthDate'] = str(datetime(1950, 1, 1).date())\n",
    "    imputed.loc[imputed.fullName == 'Paul Crowell',\n",
    "                'birthDate'] = str(datetime(1965, 1, 1).date())\n",
    "    imputed.loc[imputed.fullName == 'Petr Paucek',\n",
    "                'birthDate'] = str(datetime(1961, 1, 1).date())\n",
    "    imputed.loc[imputed.fullName == 'Rafael Sorkin',\n",
    "                'birthDate'] = str(datetime(1945, 1, 1).date())\n",
    "    imputed.loc[imputed.fullName == 'Raúl Rabadan',\n",
    "                'birthDate'] = str(datetime(1973, 1, 1).date())\n",
    "    imputed.loc[imputed.fullName == 'Ray Mackintosh',\n",
    "                'birthDate'] = str(datetime(1940, 1, 1).date())\n",
    "    imputed.loc[imputed.fullName == 'Richard Clegg',\n",
    "                'birthDate'] = str(datetime(1957, 1, 1).date())\n",
    "    imputed.loc[imputed.fullName == 'Sam Treiman',\n",
    "                'deathDate'] = str(datetime(1999, 11, 30).date())\n",
    "    imputed.loc[imputed.fullName ==\n",
    "                'Scott Diddams', 'birthDate'] = str(datetime(1968, 1, 1).date())\n",
    "    imputed.loc[imputed.fullName == 'Willibald Peter Prasthofer',\n",
    "                'birthDate'] = str(datetime(1917, 5, 17).date())\n",
    "    return imputed"
   ]
  },
  {
   "cell_type": "code",
   "execution_count": null,
   "metadata": {},
   "outputs": [],
   "source": [
    "physicists = impute_birth_dates(physicists)"
   ]
  },
  {
   "cell_type": "markdown",
   "metadata": {},
   "source": [
    "OK let's check again to see if any of these issues remain."
   ]
  },
  {
   "cell_type": "code",
   "execution_count": null,
   "metadata": {},
   "outputs": [],
   "source": [
    "dead_missing_no_birth_date = physicists[physicists.birthDate.isna() |\n",
    "           (physicists.birthDate == physicists.deathDate) |\n",
    "           (physicists.deathDate.isna() & physicists.categories.str.contains(\n",
    "               'death'))][dates_names]\n",
    "dead_missing_no_birth_date"
   ]
  },
  {
   "cell_type": "markdown",
   "metadata": {},
   "source": [
    "Down to only 3. That's a big improvement. Well *Pythagoras* is clearly dead! Wikipedia tells us that *Karl-Heinrich Riewe* dissapeared in controversial circumstances. The less said on that the better! And further research in fact reveals that *William R. Kanne* died a long time ago. So let's drop these 3 from the list."
   ]
  },
  {
   "cell_type": "code",
   "execution_count": null,
   "metadata": {},
   "outputs": [],
   "source": [
    "physicists = physicists.drop(index=dead_missing_no_birth_date.index)\n",
    "assert(physicists.birthDate.isna().sum() == 0)\n",
    "assert(len(physicists) == 1055)"
   ]
  },
  {
   "cell_type": "markdown",
   "metadata": {},
   "source": [
    "So now every physicist in the list has a birth date. Before we can examine the death dates to remove those who died before the Nobel Prize in Physics was first awarded, we must first deal with a `datetime` python technicality. Python's `datetime` cannot deal with dates before the year 1000 so let's remove all physicists born before this date as they too, like *Pythagoras*, are clearly deceased. "
   ]
  },
  {
   "cell_type": "code",
   "execution_count": null,
   "metadata": {},
   "outputs": [],
   "source": [
    "born_before_year_1000 = physicists[physicists.birthDate.apply(\n",
    "    lambda d: len(d.split('-')[0]) != 4)][dates_names]\n",
    "born_before_year_1000"
   ]
  },
  {
   "cell_type": "code",
   "execution_count": null,
   "metadata": {},
   "outputs": [],
   "source": [
    "physicists = physicists.drop(index=born_before_year_1000.index)\n",
    "assert(len(physicists) == 1043)"
   ]
  },
  {
   "cell_type": "markdown",
   "metadata": {},
   "source": [
    "Now we can convert the `birthDate` and `deathDate` variables to the `datetime` type and perform the arithmetic to find those physicists who died before the first Nobel Prize in Physics was awarded."
   ]
  },
  {
   "cell_type": "code",
   "execution_count": null,
   "metadata": {},
   "outputs": [],
   "source": [
    "physicists['birthDate'] = physicists.birthDate.apply(\n",
    "    lambda d: datetime.strptime(d, '%Y-%m-%d').date())\n",
    "physicists['deathDate'] = (physicists[~physicists.deathDate.isna()]\n",
    "                           .deathDate.apply(lambda d: datetime.strptime(\n",
    "                               d, '%Y-%m-%d').date()))"
   ]
  },
  {
   "cell_type": "code",
   "execution_count": null,
   "metadata": {},
   "outputs": [],
   "source": [
    "date_prize_first_awarded = datetime(1901, 12, 10).date()\n",
    "physicists_died_before_prize = physicists[\n",
    "    physicists.deathDate < date_prize_first_awarded][dates_names]\n",
    "assert(len(physicists_died_before_prize) == 116)\n",
    "with pd.option_context('display.max_rows', 116):\n",
    "    display(physicists_died_before_prize)\n",
    "len(physicists_died_before_prize)"
   ]
  },
  {
   "cell_type": "markdown",
   "metadata": {},
   "source": [
    "So let's drop these great physicists who were never eligible to have been awarded a Nobel."
   ]
  },
  {
   "cell_type": "code",
   "execution_count": null,
   "metadata": {},
   "outputs": [],
   "source": [
    "physicists = physicists.drop(index=physicists_died_before_prize.index)\n",
    "assert(len(physicists) == 927)\n",
    "assert(all(physicists.deathDate.isna() | (physicists.deathDate > date_prize_first_awarded)))"
   ]
  },
  {
   "cell_type": "markdown",
   "metadata": {},
   "source": [
    "## Training Set\n",
    "\n",
    "Now we can form the training set from the remaining physicists who are deceased, but were still alive, after the Nobel Prize in Physics was first awarded."
   ]
  },
  {
   "cell_type": "code",
   "execution_count": null,
   "metadata": {},
   "outputs": [],
   "source": [
    "train_physicists = physicists[~physicists.deathDate.isna()]\n",
    "assert(len(train_physicists) == 542)\n",
    "with pd.option_context('display.max_rows', 542):\n",
    "    display(train_physicists[dates_names])"
   ]
  },
  {
   "cell_type": "markdown",
   "metadata": {},
   "source": [
    "## Validation and Test Sets\n",
    "\n",
    "Now let's form a dataframe of the remaining living physicists."
   ]
  },
  {
   "cell_type": "code",
   "execution_count": null,
   "metadata": {},
   "outputs": [],
   "source": [
    "physicists_alive = physicists[physicists.deathDate.isna()]\n",
    "assert(len(physicists_alive) == 385)\n",
    "physicists_alive[dates_names]"
   ]
  },
  {
   "cell_type": "markdown",
   "metadata": {},
   "source": [
    "Now we can randomly sample this dataframe to ensure that there is approximately a 50-50 split between physicists in the validation and test sets."
   ]
  },
  {
   "cell_type": "code",
   "execution_count": null,
   "metadata": {},
   "outputs": [],
   "source": [
    "validation_physicists = physicists_alive.sample(frac=0.5, random_state=0).sort_index()\n",
    "assert(len(validation_physicists) == 192)\n",
    "with pd.option_context('display.max_rows', 192):\n",
    "    display(validation_physicists[dates_names])"
   ]
  },
  {
   "cell_type": "code",
   "execution_count": null,
   "metadata": {},
   "outputs": [],
   "source": [
    "test_physicists = physicists_alive.iloc[~physicists_alive.index.isin(\n",
    "    validation_physicists.index)].sort_index()\n",
    "assert(len(test_physicists) == 193)\n",
    "with pd.option_context('display.max_rows', 193):\n",
    "    display(test_physicists[dates_names])"
   ]
  },
  {
   "cell_type": "markdown",
   "metadata": {},
   "source": [
    "You may have noticed that there are some deceased physicists (including laureates) in these dataframes. Examples include *Stephen Hawking*, *Nicolaas Bloembergen*, *Emil Wolf* and *Hans Georg Dehmelt*. As was mentioned previously, the DBpedia data is 6-18 months behind the Wikipedia data, so recent deaths are not reflected in the data yet. Due to this there may be a few other dead physicists in the dataframes. It's not a big issue, we will just treat them as still living for the purposes of this study. However, it is important to remember that the Nobel Prize in Physics cannot be awarded posthumously.\n",
    "\n",
    "Let's do the following quick sanity checks to ensure:\n",
    "\n",
    "1. The correct total number of physicists. \n",
    "2. There is no physicist in more than one dataframe."
   ]
  },
  {
   "cell_type": "code",
   "execution_count": null,
   "metadata": {},
   "outputs": [],
   "source": [
    "assert(len(train_physicists) + len(validation_physicists) + len(test_physicists) == len(physicists))\n",
    "assert(not set(train_physicists.fullName).intersection(set(validation_physicists.fullName)))\n",
    "assert(not set(train_physicists.fullName).intersection(set(test_physicists.fullName)))\n",
    "assert(not set(validation_physicists.fullName).intersection(set(test_physicists.fullName)))"
   ]
  },
  {
   "cell_type": "markdown",
   "metadata": {},
   "source": [
    "OK everything looks good. So what percentage of the data is in each of the dataframes?"
   ]
  },
  {
   "cell_type": "code",
   "execution_count": null,
   "metadata": {},
   "outputs": [],
   "source": [
    "training_fraction = len(train_physicists) / len(physicists)\n",
    "validation_fraction = len(validation_physicists) / len(physicists)\n",
    "test_fraction = len(test_physicists) / len(physicists)\n",
    "pd.Series(data=[round(100 * training_fraction, 1), round(100 * validation_fraction, 1),\n",
    "                round(100 * test_fraction, 1)], index=['Training %', 'Validation %', 'Test %'])"
   ]
  },
  {
   "cell_type": "markdown",
   "metadata": {},
   "source": [
    "This looks like a healthy enough split to proceed with."
   ]
  },
  {
   "cell_type": "markdown",
   "metadata": {},
   "source": [
    "## Persisting the Data\n",
    "\n",
    "Now we have the training, validation and test dataframes, let's persist them for later analysis by writing their contents to a csv file."
   ]
  },
  {
   "cell_type": "code",
   "execution_count": null,
   "metadata": {},
   "outputs": [],
   "source": [
    "train_physicists.to_csv('../data/processed/train-physicists-from-1901.csv', index=False)\n",
    "validation_physicists.to_csv('../data/processed/validation-physicists-from-1901.csv', index=False)\n",
    "test_physicists.to_csv('../data/processed/test-physicists-from-1901.csv', index=False)"
   ]
  }
 ],
 "metadata": {
  "kernelspec": {
   "display_name": "Python 3",
   "language": "python",
   "name": "python3"
  },
  "language_info": {
   "codemirror_mode": {
    "name": "ipython",
    "version": 3
   },
   "file_extension": ".py",
   "mimetype": "text/x-python",
   "name": "python",
   "nbconvert_exporter": "python",
   "pygments_lexer": "ipython3",
   "version": "3.6.5"
  }
 },
 "nbformat": 4,
 "nbformat_minor": 2
}
