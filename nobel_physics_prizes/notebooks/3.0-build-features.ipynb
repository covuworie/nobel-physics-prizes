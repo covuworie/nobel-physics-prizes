{
 "cells": [
  {
   "cell_type": "markdown",
   "metadata": {},
   "source": [
    "# Build Features"
   ]
  },
  {
   "cell_type": "code",
   "execution_count": null,
   "metadata": {},
   "outputs": [],
   "source": [
    "from datetime import datetime\n",
    "\n",
    "import numpy as np\n",
    "import pandas as pd"
   ]
  },
  {
   "cell_type": "code",
   "execution_count": null,
   "metadata": {},
   "outputs": [],
   "source": [
    "train_physicists = pd.read_csv(\n",
    "    '../data/processed/train_notable_physicists_from_1901.csv')\n",
    "train_physicists.head()"
   ]
  },
  {
   "cell_type": "code",
   "execution_count": null,
   "metadata": {},
   "outputs": [],
   "source": [
    "nobel_physicists = pd.read_csv(\n",
    "    '../data/raw/nobel-physics-prize-laureates.csv')\n",
    "nobel_physicists.head()"
   ]
  },
  {
   "cell_type": "code",
   "execution_count": null,
   "metadata": {},
   "outputs": [],
   "source": [
    "nobel_columns = ['Year', 'Laureate', 'name', 'Country', 'Rationale']\n",
    "nobel_physicists = pd.merge(nobel_physicists, train_physicists, how = 'left', left_on = 'Laureate',\n",
    "                            right_on = 'fullName')[nobel_columns]\n",
    "nobel_physicists.head()"
   ]
  },
  {
   "cell_type": "code",
   "execution_count": null,
   "metadata": {},
   "outputs": [],
   "source": [
    "nobel_chemists = pd.read_csv(\n",
    "    '../data/raw/nobel-chemistry-prize-laureates.csv')\n",
    "nobel_chemists.head()"
   ]
  },
  {
   "cell_type": "code",
   "execution_count": null,
   "metadata": {},
   "outputs": [],
   "source": [
    "nobel_chemists = pd.merge(nobel_chemists, train_physicists, how = 'left', left_on = 'Laureate',\n",
    "                          right_on = 'fullName')[nobel_columns]\n",
    "nobel_chemists.head()"
   ]
  },
  {
   "cell_type": "code",
   "execution_count": null,
   "metadata": {},
   "outputs": [],
   "source": [
    "def build_features(physicists, nobel_physicists, nobel_chemists):\n",
    "    features = physicists.copy()[['fullName', 'name']]    \n",
    "    features['gender'] = _build_gender(physicists.gender)\n",
    "    features['years_lived'] = _build_years_lived(physicists.birthDate,\n",
    "                                                 physicists.deathDate)\n",
    "    \n",
    "    _build_physics_subfield_features(features, physicists)\n",
    "    _build_num_laureates_features(features, physicists, nobel_physicists,\n",
    "                                  nobel_chemists)\n",
    "    return features\n",
    "\n",
    "\n",
    "def _build_physics_subfield_features(features, physicists):\n",
    "    features['theoretical_physicist'] = _build_physics_subfield(\n",
    "        physicists.categories, physicists.field, \n",
    "        physicists.description, physicists.comment,\n",
    "        search_terms={'categories': 'Theoretical physicists',\n",
    "                      'others': 'theoretical physic'})\n",
    "    features['experimental_physicist'] = _build_physics_subfield(\n",
    "        physicists.categories, physicists.field, \n",
    "        physicists.description, physicists.comment,\n",
    "        search_terms={'categories': 'Experimental physicists',\n",
    "                      'others': 'experimental physic'})\n",
    "    features['astronomer'] = _build_physics_subfield(\n",
    "        physicists.categories, physicists.field, \n",
    "        physicists.description, physicists.comment,\n",
    "        search_terms={'categories': 'astronomers',\n",
    "                      'others': 'astronom'})\n",
    "\n",
    "\n",
    "def _build_num_laureates_features(features, physicists, nobel_physicists,\n",
    "                                  nobel_chemists):\n",
    "    features['num_physics_laureate_academic_advisors'] = (\n",
    "        _build_num_laureates(physicists.academicAdvisor,\n",
    "                             nobel_physicists.Laureate, nobel_physicists.name))\n",
    "    features['num_chemistry_laureate_academic_advisors'] = (\n",
    "        _build_num_laureates(physicists.academicAdvisor,\n",
    "                             nobel_chemists.Laureate, nobel_chemists.name))\n",
    "    features['num_physics_laureate_doctoral_advisors'] = (\n",
    "        _build_num_laureates(physicists.doctoralAdvisor,\n",
    "                             nobel_physicists.Laureate, nobel_physicists.name))\n",
    "    features['num_chemistry_laureate_doctoral_advisors'] = (\n",
    "        _build_num_laureates(physicists.doctoralAdvisor,\n",
    "                             nobel_chemists.Laureate, nobel_chemists.name))\n",
    "    features['num_physics_laureate_doctoral_students'] = (\n",
    "        _build_num_laureates(physicists.doctoralStudent,\n",
    "                             nobel_physicists.Laureate, nobel_physicists.name))\n",
    "    features['num_chemistry_laureate_doctoral_students'] = (\n",
    "        _build_num_laureates(physicists.doctoralStudent,\n",
    "                             nobel_chemists.Laureate, nobel_chemists.name))\n",
    "    features['num_physics_laureate_notable_students'] = (\n",
    "        _build_num_laureates(physicists.notableStudent,\n",
    "                             nobel_physicists.Laureate, nobel_physicists.name))\n",
    "    features['num_chemistry_laureate_notable_students'] = (\n",
    "        _build_num_laureates(physicists.notableStudent,\n",
    "                             nobel_chemists.Laureate, nobel_chemists.name))\n",
    "    features['num_physics_laureate_spouses'] = (\n",
    "        _build_num_laureates(physicists.spouse,\n",
    "                             nobel_physicists.Laureate, nobel_physicists.name))\n",
    "    features['num_chemistry_laureate_spouses'] = (\n",
    "        _build_num_laureates(physicists.spouse,\n",
    "                             nobel_chemists.Laureate,  nobel_chemists.name))\n",
    "    \n",
    "\n",
    "\n",
    "def _build_gender(gender):\n",
    "    return gender.map({'male': 1, 'female': 0})\n",
    "\n",
    "\n",
    "def _build_years_lived(birth_date, death_date):\n",
    "    death_date_no_nan = death_date.apply(_date_no_nan)\n",
    "    birth_date_no_nan = birth_date.apply(_date_no_nan)\n",
    "    years_lived = ((death_date_no_nan - birth_date_no_nan) / pd.to_timedelta(1, 'Y'))\n",
    "    return years_lived.astype('int64')\n",
    "\n",
    "\n",
    "def _build_physics_subfield(categories, field, description, comment, search_terms):\n",
    "    cat_theoretical_physicist = categories.apply(\n",
    "        lambda cat: search_terms['categories'] in cat)\n",
    "    field_theoretical_physicist = field.apply(\n",
    "        lambda fld: search_terms['others'] in fld.lower() if isinstance(fld, str)\n",
    "        else False)\n",
    "    desc_theoretical_physicist = description.apply(\n",
    "        lambda desc: search_terms['others'] in desc.lower() if isinstance(desc, str)\n",
    "        else False)\n",
    "    comm_theoretical_physicist = description.apply(\n",
    "        lambda comm: search_terms['others'] in comm.lower() if isinstance(comm, str)\n",
    "        else False)\n",
    "    return (cat_theoretical_physicist |\n",
    "            field_theoretical_physicist |\n",
    "            desc_theoretical_physicist |\n",
    "            comm_theoretical_physicist).astype('int64')\n",
    "\n",
    "\n",
    "\n",
    "def _build_num_laureates(series, laureates, names):\n",
    "    laureates = series.apply(_get_nobel_laureates, args=(laureates, names))\n",
    "    return laureates.apply(len)\n",
    "\n",
    "\n",
    "\n",
    "def _get_nobel_laureates(cell, laureates, names):\n",
    "    laureates_in_cell = set()\n",
    "    \n",
    "    # flatten the alternative laureate names\n",
    "    alt_laureate_names = np.concatenate(names.apply(\n",
    "        lambda nam: str(nam).split('|'))).ravel()\n",
    "    \n",
    "    if isinstance(cell, str):\n",
    "        # assume the same name if only differs by a hyphen\n",
    "        # or whitespace at front or end of string\n",
    "        values = cell.strip().replace('-', ' ').split('|')\n",
    "        for value in values:\n",
    "            if value in laureates.values:\n",
    "                laureates_in_cell.add(value)\n",
    "            if value in alt_laureate_names:\n",
    "                laureates_in_cell.add(value)\n",
    "                    \n",
    "    laureates_in_cell = list(laureates_in_cell)\n",
    "    return laureates_in_cell\n",
    "\n",
    "\n",
    "    \n",
    "def _date_no_nan(date):\n",
    "    if isinstance(date, str):\n",
    "        return datetime.strptime(date, '%Y-%m-%d').date()\n",
    "    return datetime.now().date()"
   ]
  },
  {
   "cell_type": "code",
   "execution_count": null,
   "metadata": {},
   "outputs": [],
   "source": [
    "train_physicists_features = build_features(train_physicists, nobel_physicists,\n",
    "                                           nobel_chemists)\n",
    "train_physicists_features.head()"
   ]
  },
  {
   "cell_type": "markdown",
   "metadata": {},
   "source": [
    "## Cleaning Up\n",
    "\n",
    "A few clean up steps are needed:\n",
    "\n",
    "- Convert the notebook to a HTML file with all the output.\n",
    "- Convert the notebook to another notebook with the output removed."
   ]
  },
  {
   "cell_type": "code",
   "execution_count": null,
   "metadata": {},
   "outputs": [],
   "source": [
    "!jupyter nbconvert --output-dir html_output --to html 3.0-build-features.ipynb"
   ]
  },
  {
   "cell_type": "code",
   "execution_count": null,
   "metadata": {},
   "outputs": [],
   "source": [
    "!jupyter nbconvert --ClearOutputPreprocessor.enabled=True --to notebook 3.0-build-features.ipynb"
   ]
  }
 ],
 "metadata": {
  "kernelspec": {
   "display_name": "Python 3",
   "language": "python",
   "name": "python3"
  },
  "language_info": {
   "codemirror_mode": {
    "name": "ipython",
    "version": 3
   },
   "file_extension": ".py",
   "mimetype": "text/x-python",
   "name": "python",
   "nbconvert_exporter": "python",
   "pygments_lexer": "ipython3",
   "version": "3.6.5"
  }
 },
 "nbformat": 4,
 "nbformat_minor": 2
}
