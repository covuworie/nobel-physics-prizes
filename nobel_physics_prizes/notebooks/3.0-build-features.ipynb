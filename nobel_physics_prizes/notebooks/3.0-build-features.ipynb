{
 "cells": [
  {
   "cell_type": "markdown",
   "metadata": {},
   "source": [
    "# Build Features"
   ]
  },
  {
   "cell_type": "code",
   "execution_count": null,
   "metadata": {},
   "outputs": [],
   "source": [
    "from datetime import datetime\n",
    "\n",
    "import numpy as np\n",
    "import pandas as pd"
   ]
  },
  {
   "cell_type": "code",
   "execution_count": null,
   "metadata": {},
   "outputs": [],
   "source": [
    "train_physicists = pd.read_csv(\n",
    "    '../data/processed/train_notable_physicists_from_1901.csv')\n",
    "train_physicists.head()"
   ]
  },
  {
   "cell_type": "code",
   "execution_count": null,
   "metadata": {},
   "outputs": [],
   "source": [
    "nobel_physicists = pd.read_csv(\n",
    "    '../data/raw/nobel-physics-prize-laureates.csv')\n",
    "nobel_physicists.head()"
   ]
  },
  {
   "cell_type": "code",
   "execution_count": null,
   "metadata": {},
   "outputs": [],
   "source": [
    "nobel_chemists = pd.read_csv(\n",
    "    '../data/raw/nobel-chemistry-prize-laureates.csv')\n",
    "nobel_chemists.head()"
   ]
  },
  {
   "cell_type": "code",
   "execution_count": null,
   "metadata": {},
   "outputs": [],
   "source": [
    "def build_features(physicists):\n",
    "    features = physicists.copy()[['fullName', 'name']]    \n",
    "    features['gender'] = _build_gender(physicists.gender)\n",
    "    features['years_lived'] = _build_years_lived(physicists.birthDate,\n",
    "                                                 physicists.deathDate)\n",
    "    \n",
    "    \n",
    "    features['theoretical_physicist'] = _build_physics_subfield(\n",
    "        physicists.categories, physicists.field, \n",
    "        physicists.description, physicists.comment,\n",
    "        search_terms={'categories': 'Theoretical physicists',\n",
    "                      'others': 'theoretical physic'})\n",
    "    features['experimental_physicist'] = _build_physics_subfield(\n",
    "        physicists.categories, physicists.field, \n",
    "        physicists.description, physicists.comment,\n",
    "        search_terms={'categories': 'Experimental physicists',\n",
    "                      'others': 'experimental physic'})\n",
    "    features['astronomer'] = _build_physics_subfield(\n",
    "        physicists.categories, physicists.field, \n",
    "        physicists.description, physicists.comment,\n",
    "        search_terms={'categories': 'astronomers',\n",
    "                      'others': 'astronom'})\n",
    "\n",
    "    features['num_physics_laureate_academic_advisors'] = (\n",
    "        _build_num_academic_advisors_laureate(physicists.academicAdvisor,\n",
    "                                              nobel_physicists.Laureate))\n",
    "    features['num_chemistry_laureate_academic_advisors'] = (\n",
    "        _build_num_academic_advisors_laureate(physicists.academicAdvisor,\n",
    "                                              nobel_chemists.Laureate))\n",
    "    \n",
    "    return features\n",
    "\n",
    "\n",
    "def _build_gender(gender):\n",
    "    return gender.map({'male': 1, 'female': 0})\n",
    "\n",
    "\n",
    "def _build_years_lived(birth_date, death_date):\n",
    "    death_date_no_nan = death_date.apply(_date_no_nan)\n",
    "    birth_date_no_nan = birth_date.apply(_date_no_nan)\n",
    "    years_lived = ((death_date_no_nan - birth_date_no_nan) / pd.to_timedelta(1, 'Y'))\n",
    "    return years_lived.astype('int64')\n",
    "\n",
    "\n",
    "def _build_physics_subfield(categories, field, description, comment, search_terms):\n",
    "    cat_theoretical_physicist = categories.apply(\n",
    "        lambda cat: search_terms['categories'] in cat)\n",
    "    field_theoretical_physicist = field.apply(\n",
    "        lambda fld: search_terms['others'] in fld.lower() if isinstance(fld, str)\n",
    "        else False)\n",
    "    desc_theoretical_physicist = description.apply(\n",
    "        lambda desc: search_terms['others'] in desc.lower() if isinstance(desc, str)\n",
    "        else False)\n",
    "    comm_theoretical_physicist = description.apply(\n",
    "        lambda comm: search_terms['others'] in comm.lower() if isinstance(comm, str)\n",
    "        else False)\n",
    "    return (cat_theoretical_physicist |\n",
    "            field_theoretical_physicist |\n",
    "            desc_theoretical_physicist |\n",
    "            comm_theoretical_physicist).astype('int64')\n",
    "\n",
    "\n",
    "\n",
    "def _build_num_academic_advisors_laureate(academic_advisors, laureates):\n",
    "    laureates = academic_advisors.apply(_get_nobel_laureates, args=(laureates,))\n",
    "    return laureates.apply(len)\n",
    "\n",
    "\n",
    "\n",
    "def _get_nobel_laureates(cell, laureates):\n",
    "    laureates_in_cell = []\n",
    "    if isinstance(cell, str):\n",
    "        names = cell.split('|')\n",
    "        for name in names:\n",
    "            if name in laureates.values:\n",
    "                laureates_in_cell.append(name)\n",
    "    return laureates_in_cell\n",
    "\n",
    "\n",
    "    \n",
    "def _date_no_nan(date):\n",
    "    if isinstance(date, str):\n",
    "        return datetime.strptime(date, '%Y-%m-%d').date()\n",
    "    return datetime.now().date()"
   ]
  },
  {
   "cell_type": "code",
   "execution_count": null,
   "metadata": {},
   "outputs": [],
   "source": [
    "train_physicists_features = build_features(train_physicists)\n",
    "train_physicists_features.head()"
   ]
  },
  {
   "cell_type": "markdown",
   "metadata": {},
   "source": [
    "## Cleaning Up\n",
    "\n",
    "A few clean up steps are needed:\n",
    "\n",
    "- Convert the notebook to a HTML file with all the output.\n",
    "- Convert the notebook to another notebook with the output removed."
   ]
  },
  {
   "cell_type": "code",
   "execution_count": null,
   "metadata": {},
   "outputs": [],
   "source": [
    "!jupyter nbconvert --output-dir html_output --to html 3.0-build-features.ipynb"
   ]
  },
  {
   "cell_type": "code",
   "execution_count": null,
   "metadata": {},
   "outputs": [],
   "source": [
    "!jupyter nbconvert --ClearOutputPreprocessor.enabled=True --to notebook 3.0-build-features.ipynb"
   ]
  }
 ],
 "metadata": {
  "kernelspec": {
   "display_name": "Python 3",
   "language": "python",
   "name": "python3"
  },
  "language_info": {
   "codemirror_mode": {
    "name": "ipython",
    "version": 3
   },
   "file_extension": ".py",
   "mimetype": "text/x-python",
   "name": "python",
   "nbconvert_exporter": "python",
   "pygments_lexer": "ipython3",
   "version": "3.6.5"
  }
 },
 "nbformat": 4,
 "nbformat_minor": 2
}
