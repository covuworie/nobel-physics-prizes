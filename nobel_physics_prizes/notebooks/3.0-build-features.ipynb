{
 "cells": [
  {
   "cell_type": "markdown",
   "metadata": {},
   "source": [
    "# Build Features"
   ]
  },
  {
   "cell_type": "code",
   "execution_count": null,
   "metadata": {},
   "outputs": [],
   "source": [
    "from datetime import datetime\n",
    "from dateutil.relativedelta import relativedelta\n",
    "\n",
    "import numpy as np\n",
    "import pandas as pd"
   ]
  },
  {
   "cell_type": "code",
   "execution_count": null,
   "metadata": {},
   "outputs": [],
   "source": [
    "train_physicists = pd.read_csv(\n",
    "    '../data/processed/train_notable_physicists_from_1901.csv')\n",
    "train_physicists.head()"
   ]
  },
  {
   "cell_type": "code",
   "execution_count": null,
   "metadata": {},
   "outputs": [],
   "source": [
    "def build_features(physicists):\n",
    "    features = physicists.copy()[['fullName', 'name']]    \n",
    "    features['gender'] = _build_gender(physicists.gender)\n",
    "    features['years_lived'] = _build_years_lived(physicists.birthDate,\n",
    "                                                 physicists.deathDate)\n",
    "    return features\n",
    "\n",
    "def _build_gender(gender):\n",
    "    return gender.map({'male': 1, 'female': 0})\n",
    "\n",
    "def _build_years_lived(birth_date, death_date):\n",
    "    death_date_no_nan = death_date.apply(_date_no_nan)\n",
    "    birth_date_no_nan = birth_date.apply(_date_no_nan)\n",
    "    rdelta = ((death_date_no_nan - birth_date_no_nan) / pd.to_timedelta(1, 'Y'))\n",
    "    return rdelta.astype('int64')\n",
    "\n",
    "def _date_no_nan(date):\n",
    "    if isinstance(date, str):\n",
    "        return datetime.strptime(date, '%Y-%m-%d').date()\n",
    "    return datetime.now().date()"
   ]
  },
  {
   "cell_type": "code",
   "execution_count": null,
   "metadata": {},
   "outputs": [],
   "source": [
    "train_physicists_features = build_features(train_physicists)"
   ]
  },
  {
   "cell_type": "code",
   "execution_count": null,
   "metadata": {},
   "outputs": [],
   "source": [
    "train_physicists_features.head()"
   ]
  },
  {
   "cell_type": "markdown",
   "metadata": {},
   "source": [
    "## Cleaning Up\n",
    "\n",
    "A few clean up steps are needed:\n",
    "\n",
    "- Convert the notebook to a HTML file with all the output.\n",
    "- Convert the notebook to another notebook with the output removed."
   ]
  },
  {
   "cell_type": "code",
   "execution_count": null,
   "metadata": {},
   "outputs": [],
   "source": [
    "!jupyter nbconvert --output-dir html_output --to html 3.0-build-features.ipynb"
   ]
  },
  {
   "cell_type": "code",
   "execution_count": null,
   "metadata": {},
   "outputs": [],
   "source": [
    "!jupyter nbconvert --ClearOutputPreprocessor.enabled=True --to notebook 3.0-build-features.ipynb"
   ]
  }
 ],
 "metadata": {
  "kernelspec": {
   "display_name": "Python 3",
   "language": "python",
   "name": "python3"
  },
  "language_info": {
   "codemirror_mode": {
    "name": "ipython",
    "version": 3
   },
   "file_extension": ".py",
   "mimetype": "text/x-python",
   "name": "python",
   "nbconvert_exporter": "python",
   "pygments_lexer": "ipython3",
   "version": "3.6.5"
  }
 },
 "nbformat": 4,
 "nbformat_minor": 2
}
