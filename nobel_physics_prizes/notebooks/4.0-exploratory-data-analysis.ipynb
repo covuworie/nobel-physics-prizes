{
 "cells": [
  {
   "cell_type": "markdown",
   "metadata": {},
   "source": [
    "# Exploratory Data Analysis\n",
    "\n",
    "Having created the [training features](../data/processed/train-features.csv) and [target variable](../data/processed/train-target.csv), we would now like to perform an [exploratory data analysis](https://en.wikipedia.org/wiki/Exploratory_data_analysis) (EDA) to see what insights we can derive from the data. In particular, we would like to get a feeling for how useful the features may be in predicting the target, that is, whether a physicist is a laureate."
   ]
  },
  {
   "cell_type": "code",
   "execution_count": null,
   "metadata": {},
   "outputs": [],
   "source": [
    "import matplotlib\n",
    "import matplotlib.lines as mlines\n",
    "import matplotlib.pyplot as plt\n",
    "import numpy as np\n",
    "import pandas as pd\n",
    "import seaborn as sns\n",
    "\n",
    "%matplotlib inline"
   ]
  },
  {
   "cell_type": "markdown",
   "metadata": {},
   "source": [
    "## Reading in the Data\n",
    "\n",
    "First let's read in the training features and the target variable."
   ]
  },
  {
   "cell_type": "code",
   "execution_count": null,
   "metadata": {},
   "outputs": [],
   "source": [
    "train_features = pd.read_csv('../data/processed/train-features.csv')\n",
    "train_features.head()"
   ]
  },
  {
   "cell_type": "code",
   "execution_count": null,
   "metadata": {},
   "outputs": [],
   "source": [
    "train_target = pd.read_csv('../data/processed/train-target.csv', squeeze=True)\n",
    "display(train_target.head())\n",
    "train_target = train_target.physics_laureate"
   ]
  },
  {
   "cell_type": "markdown",
   "metadata": {},
   "source": [
    "# Target Distrubution\n",
    "\n",
    "Since we will be predicting Nobel Laureates in Physics, it seems appropriate to start by looking at the distribution of the target variable."
   ]
  },
  {
   "cell_type": "code",
   "execution_count": null,
   "metadata": {},
   "outputs": [],
   "source": [
    "train_target_dist = train_target.value_counts(normalize=True)\n",
    "train_target_dist.index = ['Non-laureates', 'Laureates']\n",
    "ax = train_target_dist.plot(kind='bar')\n",
    "ax.set_title('Nobel Physics Laureates')\n",
    "ax.set_ylabel('Fraction of Laureates')\n",
    "ax.set_xticklabels(train_target_dist.index, rotation='horizontal')\n",
    "ax.set_yticks(np.linspace(start=0, stop=0.8, num=5))\n",
    "ax.tick_params(axis='both', left=False, bottom=False)\n",
    "sns.despine(ax=ax, left=True, bottom=True)"
   ]
  },
  {
   "cell_type": "markdown",
   "metadata": {},
   "source": [
    "It is evident that the ratio of non-laureates to laureates is about 3.5:1. Due to the class imbalance,  an appropriate metric for selecting and evaluating models will need to be chosen later."
   ]
  },
  {
   "cell_type": "markdown",
   "metadata": {},
   "source": [
    "## Binary Variables Distributions\n",
    "\n",
    "There are a lot of feature variables to look at. We would like to get a sense of whether being a laureate has any effect on the distribution of these variables. So we will:\n",
    "\n",
    "1. Group the binary variables thematically (e.g. group *all* \"alumnus\" variables).\n",
    "2. Group the physicists into laureates and non-laureates.\n",
    "3. For each group of physicists and each category in a theme, determine the fraction of physicists. \n",
    "\n",
    "By comparison of the fractions in the categories we should be able to see what effect, if any, being a laureate has. A categorical scatter plot seems like a good way to visualize this so let's go ahead and take a look at the plots."
   ]
  },
  {
   "cell_type": "code",
   "execution_count": null,
   "metadata": {},
   "outputs": [],
   "source": [
    "binary = train_features.select_dtypes('object').drop('full_name', axis='columns').join(train_target)\n",
    "binary.head()"
   ]
  },
  {
   "cell_type": "code",
   "execution_count": null,
   "metadata": {},
   "outputs": [],
   "source": [
    "def plot_catplot(features, target, columns, title='', figsize=(6, 4)):\n",
    "    \"\"\"Plot categorical boxplots.\n",
    "    \n",
    "    Plot boxplots of categorical features.\n",
    "\n",
    "    Args:\n",
    "        features (pandas.DataFrame): Features dataframe.\n",
    "        target (pandas.Series): Target series.\n",
    "        columns (list of `str`): Columns in features dataframe\n",
    "            to plot.\n",
    "        title (str): Plot title.\n",
    "        figsize (tuple(int, int)): Default is (6, 4). matplotlib\n",
    "            figure size in inches x inches. \n",
    "    \"\"\"\n",
    "    \n",
    "    if columns[0] == 'gender':\n",
    "        data = features['gender'].to_frame().join(target)\n",
    "        groups = data.groupby(by='physics_laureate')\n",
    "        data = groups['gender'].value_counts()\n",
    "        \n",
    "        no = data.loc['no'] / groups.count().loc['no', :].item()\n",
    "        no = no.to_frame().T\n",
    "        yes = data.loc['yes'] / groups.count().loc['yes', :].item()\n",
    "        yes = yes.to_frame().T\n",
    "    else:\n",
    "        data = features[columns].applymap(lambda var: 1 if var == 'yes' else 0)\n",
    "        data = data.join(target).groupby(by='physics_laureate').sum()\n",
    "        data = data.div(data.sum(axis='columns'), axis='rows')\n",
    "        \n",
    "        no = pd.DataFrame(data.loc['no', :]).T\n",
    "        yes = pd.DataFrame(data.loc['yes', :]).T\n",
    "    \n",
    "    # Adapted from:\n",
    "    # https://stackoverflow.com/questions/47391702/matplotlib-making-a-colored-markers-legend-from-scratch\n",
    "    grid = sns.catplot(data=no, orient='horizontal', height=10, color='black')\n",
    "    grid.map(sns.stripplot, data=yes, order=yes.columns, orient='horizontal',\n",
    "             color='blue', marker='^')\n",
    "\n",
    "    grid.ax.set_title(title)\n",
    "    grid.set_xlabels('Fraction')\n",
    "    grid.ax.set_xlim((0, 1.0))\n",
    "    grid.ax.tick_params(axis='both', left=False, bottom=False)\n",
    "    \n",
    "    black_circle = mlines.Line2D([], [], color='black', marker='o', linestyle='None',\n",
    "                                 markersize=5, label='Non-laureate')\n",
    "    blue_triangle = mlines.Line2D([], [], color='blue', marker='^', linestyle='None',\n",
    "                                  markersize=5, label='Laureate')\n",
    "    grid.ax.legend(handles=[black_circle, blue_triangle],\n",
    "                   labels=['Non-laureate', 'Laureate'])\n",
    "    grid.despine(left=True, bottom=True)"
   ]
  },
  {
   "cell_type": "code",
   "execution_count": null,
   "metadata": {},
   "outputs": [],
   "source": [
    "alumnus = [col for col in binary.columns if col.startswith('alumnus')]\n",
    "plot_catplot(binary, train_target, alumnus, title='Alumnus fractions')"
   ]
  },
  {
   "cell_type": "markdown",
   "metadata": {},
   "source": [
    "We can see that there is a slight effect with alumnus. For example, being an alumnus in Germany or France is favorable, whereas being an alumnus in Russia is detrimental to becoming a laureate."
   ]
  },
  {
   "cell_type": "code",
   "execution_count": null,
   "metadata": {},
   "outputs": [],
   "source": [
    "num_alma_mater = [col for col in binary.columns if col.startswith('num_alma_mater')]\n",
    "plot_catplot(binary, train_target, num_alma_mater, title='Number of alma mater fractions')"
   ]
  },
  {
   "cell_type": "markdown",
   "metadata": {},
   "source": [
    "It is clear that the biggest postive effect, when it comes to alma mater, is when the number of alma mater attended is 2."
   ]
  },
  {
   "cell_type": "code",
   "execution_count": null,
   "metadata": {},
   "outputs": [],
   "source": [
    "num_physics_laureate = [col for col in binary.columns if col.startswith('num_physics_laureate')]\n",
    "plot_catplot(binary, train_target, num_physics_laureate, title='Number of physics laureate fractions')"
   ]
  },
  {
   "cell_type": "markdown",
   "metadata": {},
   "source": [
    "When regards to the number of relationships with physics laureates, the data is interesting and may even be counter-intuitive in several ways. Surprisingly, having exactly one laureate doctoral advisor severely damages the chances of a Nobel Prize win, but having 1 or 2 academic laureate advisors actually improves the chances. On the other hand, it seems to pay off to teach well as having good doctoral and notable students really help a physicist's chances of becoming a laureate. It is interesting that being an influencer or being influenced by 1 or 2 other laureates has a big negative effect on one's chances of walking away with the big prize. This is pure speculation, as it is difficult to know the real reason for this, but maybe this is due to too much similar work being produced?"
   ]
  },
  {
   "cell_type": "code",
   "execution_count": null,
   "metadata": {},
   "outputs": [],
   "source": [
    "born = [col for col in binary.columns if col.startswith('born')]\n",
    "plot_catplot(binary, train_target, born, title='Born fractions')"
   ]
  },
  {
   "cell_type": "markdown",
   "metadata": {},
   "source": [
    "We can see that there is an effect of birth place. For instance, being born in the United States, Great Britain or France is very favorable. On the other hand, being born in Russia or any other country not in the list (represented by \"***\") seems to hurt one's chances of scooping the Nobel Prize. The story is similar with citizenship below."
   ]
  },
  {
   "cell_type": "code",
   "execution_count": null,
   "metadata": {},
   "outputs": [],
   "source": [
    "citizen = [col for col in binary.columns if col.startswith('citizen')]\n",
    "plot_catplot(binary, train_target, citizen, title='Citizen fractions')"
   ]
  },
  {
   "cell_type": "code",
   "execution_count": null,
   "metadata": {},
   "outputs": [],
   "source": [
    "num_birth = [col for col in binary.columns if col.startswith('num_birth')]\n",
    "plot_catplot(binary, train_target, num_birth, title='Number of birthplaces fractions')"
   ]
  },
  {
   "cell_type": "markdown",
   "metadata": {},
   "source": [
    "Here the effect is barely noticeable. However, there is a slight increase in the fraction of laureates for physicists in the mid range of country counts. The story is similar for the higher counts for the number of citizenship countries below."
   ]
  },
  {
   "cell_type": "code",
   "execution_count": null,
   "metadata": {},
   "outputs": [],
   "source": [
    "num_citizenship = [col for col in binary.columns if col.startswith('num_citizenship')]\n",
    "plot_catplot(binary, train_target, num_citizenship, title='Number of citizenship fractions')"
   ]
  },
  {
   "cell_type": "code",
   "execution_count": null,
   "metadata": {},
   "outputs": [],
   "source": [
    "gender = [col for col in binary.columns if col == 'gender']\n",
    "plot_catplot(binary, train_target, gender, title='Gender fractions')"
   ]
  },
  {
   "cell_type": "markdown",
   "metadata": {},
   "source": [
    "Unsurprisingly, it doesn't look like it helps to be female if you want to become a Physics Nobel Laureate!"
   ]
  },
  {
   "cell_type": "code",
   "execution_count": null,
   "metadata": {},
   "outputs": [],
   "source": [
    "is_ = [col for col in binary.columns if col.startswith('is')]\n",
    "plot_catplot(binary, train_target, is_, title='Physics field fractions')"
   ]
  },
  {
   "cell_type": "markdown",
   "metadata": {},
   "source": [
    "There seems to be a really big effect when it comes the type of physics endeavor. It seems to be all about experiment and little love is given to the theorists and astronomers."
   ]
  },
  {
   "cell_type": "code",
   "execution_count": null,
   "metadata": {},
   "outputs": [],
   "source": [
    "lived = [col for col in binary.columns if col.startswith('lived')]\n",
    "plot_catplot(binary, train_target, lived, title='Lived fractions')"
   ]
  },
  {
   "cell_type": "markdown",
   "metadata": {},
   "source": [
    "It's all about living in the USA / North America. This seems to have a really big effect on the chances of winning a Nobel Prize. Most likely this is due to a lot of the top physics talent emigrating to the United States. Seems like it doesn't pay to stay in Germany or on the Asian continent!  "
   ]
  },
  {
   "cell_type": "code",
   "execution_count": null,
   "metadata": {},
   "outputs": [],
   "source": [
    "num_residence = [col for col in binary.columns if col.startswith('num_residence')]\n",
    "plot_catplot(binary, train_target, num_residence, title='Number of residence fractions')"
   ]
  },
  {
   "cell_type": "markdown",
   "metadata": {},
   "source": [
    "It also seems like living exclusively in one country really improves the chances of winning a Nobel Laureate."
   ]
  },
  {
   "cell_type": "code",
   "execution_count": null,
   "metadata": {},
   "outputs": [],
   "source": [
    "worked = [col for col in binary.columns if col.startswith('worked')]\n",
    "plot_catplot(binary, train_target, worked, title='Worked fractions')"
   ]
  },
  {
   "cell_type": "markdown",
   "metadata": {},
   "source": [
    "Interestingly, working in the USA / North America seems to have a detrimental effect on winning a Nobel Prize, which contradicts the above. This may have more to do with the quality of the data than anything. It may be caused by the fact that a lot of workplaces data is not the most complete. From the data, it certainly seems beneficial to work in Great Britain and in particular at the University of Cambridge."
   ]
  },
  {
   "cell_type": "code",
   "execution_count": null,
   "metadata": {},
   "outputs": [],
   "source": [
    "num_workplaces = [col for col in binary.columns if col.startswith('num_workplaces')]\n",
    "plot_catplot(binary, train_target, num_workplaces, title='Number of workplaces fractions')"
   ]
  },
  {
   "cell_type": "markdown",
   "metadata": {},
   "source": [
    "Working in 2 or 3 workplaces seems to improve the chances of becoming a Nobel Laureate, whereas the diversity of workplace location doesn't make any difference."
   ]
  },
  {
   "cell_type": "code",
   "execution_count": null,
   "metadata": {},
   "outputs": [],
   "source": [
    "num_years_lived_group = [col for col in binary.columns if col.startswith('num_years_lived_group')]\n",
    "plot_catplot(binary, train_target, num_years_lived_group, title='Number of years lived group fractions')"
   ]
  },
  {
   "cell_type": "markdown",
   "metadata": {},
   "source": [
    "Being in the age range groups `65-79` and `80-94` seem to improve the chances of winning a Physics Nobel Prize, whilst being in the youngest age range groups seems to negatively affect the chances of picking up the big prize."
   ]
  },
  {
   "cell_type": "markdown",
   "metadata": {},
   "source": [
    "## Conclusion\n",
    "\n",
    "It appears that some of the features may be useful in helping to predict whether a physicist will or will not be awarded the Nobel Prize in Physics. However, in the EDA, we have totally ignored the following:\n",
    "\n",
    "- Correlations between categorical features.\n",
    "- Correlations between categorical features and the target.\n",
    "\n",
    "All these relationships are not so easy to analyze due to the size of the feature space. A more formalized exploratory approach is needed to reduce the size of the feature space and gain futher insight into the factors which affect whether a physicist will have the title of laureate bestowed upon them."
   ]
  }
 ],
 "metadata": {
  "kernelspec": {
   "display_name": "Python 3",
   "language": "python",
   "name": "python3"
  },
  "language_info": {
   "codemirror_mode": {
    "name": "ipython",
    "version": 3
   },
   "file_extension": ".py",
   "mimetype": "text/x-python",
   "name": "python",
   "nbconvert_exporter": "python",
   "pygments_lexer": "ipython3",
   "version": "3.6.5"
  }
 },
 "nbformat": 4,
 "nbformat_minor": 2
}
