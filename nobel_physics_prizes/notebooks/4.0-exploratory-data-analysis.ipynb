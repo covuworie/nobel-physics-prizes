{
 "cells": [
  {
   "cell_type": "markdown",
   "metadata": {},
   "source": [
    "# Exploratory Data Analysis\n",
    "\n",
    "Having created the [training features](../data/processed/train-features.csv) and [target variable](../data/processed/train-target.csv), I would now like to perform an [exploratory data analysis](https://en.wikipedia.org/wiki/Exploratory_data_analysis) (EDA) to see what insights I can derive from the data. In particular, I'd like to get a feeling for how useful the features may be in predicting the target, that is, whether a physicist is or is likely to become a *Nobel Laureate in Physics*."
   ]
  },
  {
   "cell_type": "code",
   "execution_count": null,
   "metadata": {},
   "outputs": [],
   "source": [
    "import matplotlib\n",
    "import matplotlib.lines as mlines\n",
    "import matplotlib.pyplot as plt\n",
    "import numpy as np\n",
    "import pandas as pd\n",
    "import seaborn as sns\n",
    "\n",
    "%matplotlib inline"
   ]
  },
  {
   "cell_type": "markdown",
   "metadata": {},
   "source": [
    "## Reading in the Data\n",
    "\n",
    "First let's read in the training features and the target variable."
   ]
  },
  {
   "cell_type": "code",
   "execution_count": null,
   "metadata": {},
   "outputs": [],
   "source": [
    "train_features = pd.read_csv('../data/processed/train-features.csv')\n",
    "train_features.head()"
   ]
  },
  {
   "cell_type": "code",
   "execution_count": null,
   "metadata": {},
   "outputs": [],
   "source": [
    "target = pd.read_csv('../data/processed/train-target.csv', squeeze=True)\n",
    "display(target.head())\n",
    "target = target.physics_laureate"
   ]
  },
  {
   "cell_type": "markdown",
   "metadata": {},
   "source": [
    "# Target Distrubution\n",
    "\n",
    "Since the goal of the study is to predict *Nobel Laureates in Physics*, it seems appropriate to start by looking at the distribution of the target variable."
   ]
  },
  {
   "cell_type": "code",
   "execution_count": null,
   "metadata": {},
   "outputs": [],
   "source": [
    "target_dist = target.value_counts(normalize=True)\n",
    "target_dist.index = ['Non-laureates', 'Laureates']\n",
    "ax = target_dist.plot(kind='bar')\n",
    "ax.set_title('Nobel Physics Laureates')\n",
    "ax.set_ylabel('Fraction of Laureates')\n",
    "ax.set_xticklabels(target_dist.index, rotation='horizontal')\n",
    "ax.set_yticks(np.linspace(start=0, stop=0.8, num=5))\n",
    "ax.tick_params(axis='both', left=False, bottom=False)\n",
    "sns.despine(ax=ax, left=True, bottom=True)"
   ]
  },
  {
   "cell_type": "markdown",
   "metadata": {},
   "source": [
    "It is evident that the ratio of non-laureates to laureates is about 3.5:1. Due to the class imbalance,  an appropriate metric for selecting and evaluating models will need to be chosen later."
   ]
  },
  {
   "cell_type": "markdown",
   "metadata": {},
   "source": [
    "## Continuous Variables Distributions\n",
    "\n",
    "There are a lot of feature variables to look at, so for the time-being let's consider only the numerical variables. I'd like to get a sense of the distribution of these variables across laureates and non-laureates. A box plot seems like a good way to visualize this so let's go ahead and take a look at the box plots for all the numerical variables. "
   ]
  },
  {
   "cell_type": "code",
   "execution_count": null,
   "metadata": {},
   "outputs": [],
   "source": [
    "numerical = train_features.select_dtypes('float64').join(target)\n",
    "numerical.head()"
   ]
  },
  {
   "cell_type": "code",
   "execution_count": null,
   "metadata": {},
   "outputs": [],
   "source": [
    "def plot_grouped_boxplots(features, target, columns, title='', figsize=(6, 4)):\n",
    "    \"\"\"Plot grouped boxplots.\n",
    "    \n",
    "    Plot grouped boxplots of numerical features.\n",
    "\n",
    "    Args:\n",
    "        features (pandas.DataFrame): Features dataframe.\n",
    "        target (pandas.Series): Target series.\n",
    "        columns (list of `str`): Columns in features dataframe\n",
    "            to plot.\n",
    "        title (str): Plot title.\n",
    "        figsize (tuple(int, int)): Default is (6, 4). matplotlib\n",
    "        figure size in inches x inches.\n",
    "    \"\"\"\n",
    "\n",
    "    columns = features.columns\n",
    "    fig, ax = plt.subplots(nrows=len(columns), sharex=True, figsize=figsize)\n",
    "    data = features.join(target)\n",
    "    for i in range(len(columns)):\n",
    "        if isinstance(ax, np.ndarray):\n",
    "            axes = ax[i]\n",
    "        else:\n",
    "            axes = ax\n",
    "        sns.boxplot(data=data, y='physics_laureate', x=data.columns[i], ax=axes,\n",
    "                    hue='physics_laureate')\n",
    "        sns.despine(left=True, bottom=True)\n",
    "        axes.set_xlabel(data.columns[i].replace('_', ' '))\n",
    "        axes.set_ylabel('Physics laureate')\n",
    "        axes.tick_params(axis='both', left=False, bottom=False)\n",
    "        axes.legend_.remove()\n",
    "        if i == 0:\n",
    "            axes.set_title(title)\n",
    "    fig.tight_layout()"
   ]
  },
  {
   "cell_type": "code",
   "execution_count": null,
   "metadata": {},
   "outputs": [],
   "source": [
    "alma_mater = [col for col in train_features.columns.tolist()\n",
    "              if 'alma_mater' in col]\n",
    "alma_mater = train_features[alma_mater]\n",
    "plot_grouped_boxplots(alma_mater, target, alma_mater.columns, title='Alma maters')"
   ]
  },
  {
   "cell_type": "markdown",
   "metadata": {},
   "source": [
    "The ratio of the number of alma mater seems like it may be significant in separating laureates from non-laureates since the value is consistently higher for laureates. The ratio for the country and continent codes looks useful too as there is a spread of lower values for non-laureates, whilst on average laureates seem to consistently study in more than one country and on more than one continent."
   ]
  },
  {
   "cell_type": "code",
   "execution_count": null,
   "metadata": {},
   "outputs": [],
   "source": [
    "workplaces = [col for col in train_features.columns.tolist() if 'workplaces' in col]\n",
    "workplaces = train_features[workplaces]\n",
    "plot_grouped_boxplots(workplaces, target, workplaces.columns, title='Workplaces')"
   ]
  },
  {
   "cell_type": "markdown",
   "metadata": {},
   "source": [
    "The ratio of the number of workplaces seems like it may be significant in distinguishing laureates as the median value and interquartile range are larger for laureates. Although, it is interesting to see that there are several outliers amongst the non-laureates. The ratio for the country and continent codes do not look particularly useful."
   ]
  },
  {
   "cell_type": "code",
   "execution_count": null,
   "metadata": {},
   "outputs": [],
   "source": [
    "years = [col for col in train_features.columns.tolist() if 'years' in col]\n",
    "years = train_features[years]\n",
    "plot_grouped_boxplots(years, target, years.columns, title='Years lived')"
   ]
  },
  {
   "cell_type": "markdown",
   "metadata": {},
   "source": [
    "There seems to be some slight effect of the ratio of the number of years lived on the target. The median value is slightly higher for laureates and the interquartile range and range is lower.\n",
    "\n",
    "The rest of the variables which are associated with birth and death places, chemistry and physics laureate relationships, citizenships and residences do not seem to be very useful in predicting the target. Although, maybe there is some useful information to be gleamed from some of the outliers."
   ]
  },
  {
   "cell_type": "code",
   "execution_count": null,
   "metadata": {},
   "outputs": [],
   "source": [
    "birth = [col for col in train_features.columns.tolist() if 'birth' in col]\n",
    "birth = train_features[birth]\n",
    "plot_grouped_boxplots(birth, target, birth.columns, title='Birth places')"
   ]
  },
  {
   "cell_type": "code",
   "execution_count": null,
   "metadata": {},
   "outputs": [],
   "source": [
    "chemistry = [col for col in train_features.columns.tolist() if 'chemistry' in col]\n",
    "chemistry = train_features[chemistry]\n",
    "plot_grouped_boxplots(chemistry, target, chemistry.columns,\n",
    "                      title='Chemistry laureate relationships', figsize=(12, 10))"
   ]
  },
  {
   "cell_type": "code",
   "execution_count": null,
   "metadata": {},
   "outputs": [],
   "source": [
    "citizenship = [col for col in train_features.columns.tolist() if 'citizenship' in col]\n",
    "citizenship = train_features[citizenship]\n",
    "plot_grouped_boxplots(citizenship, target, citizenship.columns, title='Citizenships')"
   ]
  },
  {
   "cell_type": "code",
   "execution_count": null,
   "metadata": {},
   "outputs": [],
   "source": [
    "death = [col for col in train_features.columns.tolist() if 'death' in col]\n",
    "death = train_features[death]\n",
    "plot_grouped_boxplots(death, target, death.columns, title='Death places')"
   ]
  },
  {
   "cell_type": "code",
   "execution_count": null,
   "metadata": {},
   "outputs": [],
   "source": [
    "physics = [col for col in train_features.columns.tolist() if 'physics' in col]\n",
    "physics = train_features[physics]\n",
    "plot_grouped_boxplots(physics, target, physics.columns,\n",
    "                      title='Physics laureate relationships', figsize=(12, 10))"
   ]
  },
  {
   "cell_type": "code",
   "execution_count": null,
   "metadata": {},
   "outputs": [],
   "source": [
    "residence = [col for col in train_features.columns.tolist() if 'residence' in col]\n",
    "residence = train_features[residence]\n",
    "plot_grouped_boxplots(residence, target, residence.columns, title='Residences')"
   ]
  },
  {
   "cell_type": "markdown",
   "metadata": {},
   "source": [
    "## Continuous Variables Correlations\n",
    "\n",
    "Are there any strong correlations between the numerical variables and between any numerical variables and the target? Let's take a look at the correlation matrix."
   ]
  },
  {
   "cell_type": "code",
   "execution_count": null,
   "metadata": {},
   "outputs": [],
   "source": [
    "# Adapted from https://seaborn.pydata.org/examples/many_pairwise_correlations.html\n",
    "\n",
    "# Compute the correlation matrix\n",
    "corr = pd.concat([numerical.drop('physics_laureate', axis='columns'),\n",
    "                  target.map({'yes': 1, 'no': 0})], axis='columns').corr()\n",
    "\n",
    "# Generate a mask for the upper triangle\n",
    "mask = np.zeros_like(corr, dtype=np.bool)\n",
    "mask[np.triu_indices_from(mask)] = True\n",
    "\n",
    "# Set up the matplotlib figure\n",
    "f, ax = plt.subplots(figsize=(11, 9))\n",
    "\n",
    "# Generate a custom diverging colormap\n",
    "cmap = sns.diverging_palette(220, 10, as_cmap=True)\n",
    "\n",
    "# Draw the heatmap with the mask and correct aspect ratio\n",
    "ax = sns.heatmap(corr, mask=mask, cmap=cmap, vmin=-1.0, vmax=1.0, center=0,\n",
    "            square=True, linewidths=.5, cbar_kws={\"shrink\": .5})\n",
    "ax.set_title('Correlation matrix for continuous variables');"
   ]
  },
  {
   "cell_type": "markdown",
   "metadata": {},
   "source": [
    "Here we see that there are only weak correlations between the numerical variables and the target. Of these, the strongest correlations are with the variables associated with alma mater, workplaces and physics laureate doctoral students and academic advisors. However, the following are the few strong correlations amongst the features themselves:\n",
    "\n",
    "- Alma mater variables\n",
    "- Workplaces variables\n",
    "- Residence variables\n",
    "- Citizenship variables\n",
    "- Ratio of the number of chemistry and physics laureate notable students\n",
    "- Ratio of the number of chemistry and physics spouses (these are the Curie's)"
   ]
  },
  {
   "cell_type": "markdown",
   "metadata": {},
   "source": [
    "## Categorical Variables Distributions\n",
    "\n",
    "Now let's consider only the categorical variables. I'd like to get a sense of whether being a laureate has any effect on the distribution of these variables. So I'll:\n",
    "\n",
    "1. Group the categorical variables thematically (e.g. group all \"alumnus\" variables).\n",
    "2. Group the physicists into laureates and non-laureates.\n",
    "3. For each group of physicists and each category in a theme, determine the fraction of physicists. \n",
    "\n",
    "By comparison of the fractions in the categories I should be able to see what effect, if any, being a laureate versus being a non-laureate has. A categorical scatter plot seems like a good way to visualize this so let's go ahead and take a look at the plots."
   ]
  },
  {
   "cell_type": "code",
   "execution_count": null,
   "metadata": {},
   "outputs": [],
   "source": [
    "categorical = train_features.select_dtypes('object').drop(\n",
    "    'full_name', axis='columns').join(target)\n",
    "categorical.head()"
   ]
  },
  {
   "cell_type": "code",
   "execution_count": null,
   "metadata": {},
   "outputs": [],
   "source": [
    "def plot_catplot(features, target, columns, title='', figsize=(6, 4)):\n",
    "    \"\"\"Plot categorical boxplots.\n",
    "    \n",
    "    Plot boxplots of categorical features.\n",
    "\n",
    "    Args:\n",
    "        features (pandas.DataFrame): Features dataframe.\n",
    "        target (pandas.Series): Target series.\n",
    "        columns (list of `str`): Columns in features dataframe\n",
    "            to plot.\n",
    "        title (str): Plot title.\n",
    "        figsize (tuple(int, int)): Default is (6, 4). matplotlib\n",
    "            figure size in inches x inches. \n",
    "    \"\"\"\n",
    "    \n",
    "    if columns[0] == 'gender':\n",
    "        data = categorical['gender'].to_frame().join(target)\n",
    "        groups = data.groupby(by='physics_laureate')\n",
    "        data = groups['gender'].value_counts()\n",
    "        \n",
    "        no = data.loc['no'] / groups.count().loc['no', :].item()\n",
    "        no = no.to_frame().T\n",
    "        yes = data.loc['yes'] / groups.count().loc['yes', :].item()\n",
    "        yes = yes.to_frame().T\n",
    "    else:\n",
    "        data = categorical[columns].applymap(lambda var: 1 if var == 'yes' else 0)\n",
    "        data = data.join(target).groupby(by='physics_laureate').sum()\n",
    "        data = data.div(data.sum(axis='columns'), axis='rows')\n",
    "        \n",
    "        no = pd.DataFrame(data.loc['no', :]).T\n",
    "        yes = pd.DataFrame(data.loc['yes', :]).T\n",
    "    \n",
    "    # Adapted from:\n",
    "    # https://stackoverflow.com/questions/47391702/matplotlib-making-a-colored-markers-legend-from-scratch\n",
    "    grid = sns.catplot(data=no, orient='horizontal', height=10, color='black')\n",
    "    grid.map(sns.stripplot, data=yes, order=yes.columns, orient='horizontal',\n",
    "             color='blue', marker='^')\n",
    "\n",
    "    grid.ax.set_title(title)\n",
    "    grid.set_xlabels('Fraction')\n",
    "    grid.ax.set_xlim((0, 1.0))\n",
    "    grid.ax.tick_params(axis='both', left=False, bottom=False)\n",
    "    \n",
    "    black_circle = mlines.Line2D([], [], color='black', marker='o', linestyle='None',\n",
    "                                 markersize=5, label='Non-laureate')\n",
    "    blue_triangle = mlines.Line2D([], [], color='blue', marker='^', linestyle='None',\n",
    "                                  markersize=5, label='Laureate')\n",
    "    grid.ax.legend(handles=[black_circle, blue_triangle],\n",
    "                   labels=['Non-laureate', 'Laureate'])\n",
    "    grid.despine(left=True, bottom=True)"
   ]
  },
  {
   "cell_type": "code",
   "execution_count": null,
   "metadata": {},
   "outputs": [],
   "source": [
    "alumnus = [col for col in categorical.columns if col.startswith('alumnus')]\n",
    "plot_catplot(categorical, target, alumnus, title='Alumnus fractions')"
   ]
  },
  {
   "cell_type": "markdown",
   "metadata": {},
   "source": [
    "We can see that there is a slight effect with alumnus. For example, being an alumnus in Germany or France is favorable, whereas being an alumnus of the University of Vienna is detrimental to becoming a laureate."
   ]
  },
  {
   "cell_type": "code",
   "execution_count": null,
   "metadata": {},
   "outputs": [],
   "source": [
    "born = [col for col in categorical.columns if col.startswith('born')]\n",
    "plot_catplot(categorical, target, born, title='Born fractions')"
   ]
  },
  {
   "cell_type": "markdown",
   "metadata": {},
   "source": [
    "We can see that there is an effect of birth place. For instance, being born in the United States, Great Britain or France is very favorable. On the other hand, being born in Russia or any other country not in the list (represented by ***) really hurts your chances of walking away with the Nobel Prize. The story is similar with citizenship and death places below."
   ]
  },
  {
   "cell_type": "code",
   "execution_count": null,
   "metadata": {},
   "outputs": [],
   "source": [
    "citizen = [col for col in categorical.columns if col.startswith('citizen')]\n",
    "plot_catplot(categorical, target, citizen, title='Citizen fractions')"
   ]
  },
  {
   "cell_type": "code",
   "execution_count": null,
   "metadata": {},
   "outputs": [],
   "source": [
    "died = [col for col in categorical.columns if col.startswith('died')]\n",
    "plot_catplot(categorical, target, died, title='Died fractions')"
   ]
  },
  {
   "cell_type": "code",
   "execution_count": null,
   "metadata": {},
   "outputs": [],
   "source": [
    "gender = [col for col in categorical.columns if col == 'gender']\n",
    "plot_catplot(categorical, target, gender, title='Gender fractions')"
   ]
  },
  {
   "cell_type": "markdown",
   "metadata": {},
   "source": [
    "Unsurprisingly, it doesn't look like it helps to be female if you want to become a Physics Nobel Laureate!"
   ]
  },
  {
   "cell_type": "code",
   "execution_count": null,
   "metadata": {},
   "outputs": [],
   "source": [
    "is_ = [col for col in categorical.columns if col.startswith('is')]\n",
    "plot_catplot(categorical, target, is_, title='Physics subtype fractions')"
   ]
  },
  {
   "cell_type": "markdown",
   "metadata": {},
   "source": [
    "There seems to be a really big effect when it comes the type of physics endeavor. It seems to be all about experiment and little love is given to the theorists and astronomers."
   ]
  },
  {
   "cell_type": "code",
   "execution_count": null,
   "metadata": {},
   "outputs": [],
   "source": [
    "lived = [col for col in categorical.columns if col.startswith('lived')]\n",
    "plot_catplot(categorical, target, lived, title='Lived fractions')"
   ]
  },
  {
   "cell_type": "markdown",
   "metadata": {},
   "source": [
    "It's all about living in the USA / North America. This has a really big effect on the chances of winning a Nobel Prize. Most likely this is due to a lot of the top physics talent emigrating to the United States. Seems like it doesn't pay to stay in Germany or on the Asian continent!  "
   ]
  },
  {
   "cell_type": "code",
   "execution_count": null,
   "metadata": {},
   "outputs": [],
   "source": [
    "worked = [col for col in categorical.columns if col.startswith('worked')]\n",
    "plot_catplot(categorical, target, worked, title='Worked fractions')"
   ]
  },
  {
   "cell_type": "markdown",
   "metadata": {},
   "source": [
    "Interestingly enough, working in the USA / North America seems to have a detrimental effect on winning a Nobel Prize which contradicts the above. I think this may have more to do with the quality of the data than anything. It probably is caused by the fact that a lot of workplaces data is not the most complete? From the data, it certainly seems beneficial to work in Great Britain and in particular at the University of Cambridge."
   ]
  },
  {
   "cell_type": "markdown",
   "metadata": {},
   "source": [
    "## Conclusion\n",
    "\n",
    "It appears that some of the features may be useful in helping to predict whether a physicist will or will not be awarded the Nobel Prize in Physics. However, in the EDA, I have totally ignored the following:\n",
    "\n",
    "- Correlations between categorical variables.\n",
    "- Correlations between continuous and categorical variables.\n",
    "- Correlations between categorical variables and the target.\n",
    "\n",
    "All these relationships are not so easy to analyze due to the size of the feature space. A more formalized exploratory approach is needed to reduce the size of the feature space and gain futher insight into the factors which affect whether a physicist will have the title of Laureate bestowed upon them."
   ]
  }
 ],
 "metadata": {
  "kernelspec": {
   "display_name": "Python 3",
   "language": "python",
   "name": "python3"
  },
  "language_info": {
   "codemirror_mode": {
    "name": "ipython",
    "version": 3
   },
   "file_extension": ".py",
   "mimetype": "text/x-python",
   "name": "python",
   "nbconvert_exporter": "python",
   "pygments_lexer": "ipython3",
   "version": "3.6.5"
  }
 },
 "nbformat": 4,
 "nbformat_minor": 2
}
