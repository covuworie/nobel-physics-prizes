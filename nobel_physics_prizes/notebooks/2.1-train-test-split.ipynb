{
 "cells": [
  {
   "cell_type": "markdown",
   "metadata": {},
   "source": [
    "# Train-Test Split\n",
    "\n",
    "The [notable physicists dataframe](../data/interim/notable_physicists.csv) consists of a list of great physicists from the Ancient Greeks to modern times. I would like to reduce this to a list of modern physicists who have lived in the years when the *Nobel Prize in Physics* has been awarded. To be more precise, the Nobel Prize in Physics was first awarded on *10 December 1901* on the anniversary of Alfred Nobel's death. The prize has been awarded on the anniversary of his death every year since, excluding the few years in which no prize was awarded. Essentially, I would like a list of physicists who were alive on and after this date. Many of these physicists have died and many of them are still alive.\n",
    "\n",
    "Since one of the goals of this project is to try to predict the next Physics Nobel Laureate(s), I wish to form a *training set* that consists of physicists who have died. Naturally, some of these are Nobel Laureates and some are not. The aim is to use the training set to build models that predict whether a physicist who is still alive has been awarded or is likely to be awarded the Nobel Prize in Physics. So it is natural that my *test set* only consists of physicists who are still alive."
   ]
  },
  {
   "cell_type": "code",
   "execution_count": null,
   "metadata": {},
   "outputs": [],
   "source": [
    "from datetime import datetime\n",
    "\n",
    "import pandas as pd"
   ]
  },
  {
   "cell_type": "markdown",
   "metadata": {},
   "source": [
    "## Exploratory Analysis of Physicists Birth and Death Dates\n",
    "\n",
    "First let's read in the notable physicists data into a pandas dataframe and take a look at it."
   ]
  },
  {
   "cell_type": "code",
   "execution_count": null,
   "metadata": {},
   "outputs": [],
   "source": [
    "physicists = pd.read_csv('../data/interim/notable_physicists.csv')\n",
    "physicists.head(30)"
   ]
  },
  {
   "cell_type": "markdown",
   "metadata": {},
   "source": [
    "I can see that there are some missing birth and death dates. Let's examine exactly whose birth dates are missing."
   ]
  },
  {
   "cell_type": "code",
   "execution_count": null,
   "metadata": {},
   "outputs": [],
   "source": [
    "dates_names = ['birthDate', 'deathDate', 'fullName']\n",
    "physicists[physicists.birthDate.isna()][dates_names]"
   ]
  },
  {
   "cell_type": "markdown",
   "metadata": {},
   "source": [
    "Interestingly, Pythagoras is the only name I know here so it's likely that this is a list of modern physicists.\n",
    "Reading some of the abstracts in the dataframe and performing a Google search on some of these physicists confirms my suspicions. Rather than just dropping them and losing valuable data, I would like to see if I can find out their dates of birth. A combination of the following allows me to *impute* exact or fairly accurate pproximate values for most of the missing birth dates for the physicists:\n",
    "\n",
    "- Searching the abstract field of the dataframe\n",
    "- Looking at the *Google Knowledge Graph* results provided from a Google search\n",
    "- Looking to see if an approximate value is provided in the [list of notable physicists](https://en.wikipedia.org/wiki/List_of_physicists) or [list of notable theoretical physicists](https://en.wikipedia.org/wiki/List_of_theoretical_physicists)\n",
    "- Examining their homepages and resumes for dates or birth or dates of first degrees "
   ]
  },
  {
   "cell_type": "code",
   "execution_count": null,
   "metadata": {},
   "outputs": [],
   "source": [
    "def impute_birth_dates(physicists):\n",
    "    imputed = physicists.copy()\n",
    "    imputed.loc[imputed.fullName == 'Alejandro Corichi',\n",
    "                'birthDate'] = str(datetime(1967, 11, 2).date())\n",
    "    imputed.loc[imputed.fullName == 'Amanda Barnard',\n",
    "                'birthDate'] = str(datetime(1971, 12, 31).date())\n",
    "    imputed.loc[imputed.fullName == 'B. Roy Frieden',\n",
    "                'birthDate'] = str(datetime(1936, 9, 10).date())\n",
    "    imputed.loc[imputed.fullName == 'Carlos E.M. Wagner',\n",
    "                'birthDate'] = str(datetime(1962, 1, 1).date())\n",
    "    imputed.loc[imputed.fullName == 'Chennupati Jagadish',\n",
    "                'birthDate'] = str(datetime(1957, 8, 10).date())\n",
    "    imputed.loc[imputed.fullName == 'Craige Schensted',\n",
    "                'birthDate'] = str(datetime(1928, 1, 1).date())\n",
    "    imputed.loc[imputed.fullName == 'Denis Weaire',\n",
    "                'birthDate'] = str(datetime(1942, 10, 17).date())\n",
    "    imputed.loc[imputed.fullName == 'Eric Poisson',\n",
    "                'birthDate'] = str(datetime(1965, 7, 26).date())\n",
    "    imputed.loc[imputed.fullName == 'Gaetano Vignola',\n",
    "                'birthDate'] = str(datetime(1947, 1, 1).date())\n",
    "    imputed.loc[imputed.fullName == 'George W. Clark',\n",
    "                'birthDate'] = str(datetime(1928, 1, 1).date())\n",
    "    imputed.loc[imputed.fullName == 'Gerald B. Cleaver',\n",
    "                'birthDate'] = str(datetime(1963, 1, 1).date())\n",
    "    imputed.loc[imputed.fullName == 'James E. Faller',\n",
    "                'birthDate'] = str(datetime(1934, 1, 17).date())\n",
    "    imputed.loc[imputed.fullName == 'James W. LaBelle',\n",
    "                'birthDate'] = str(datetime(1958, 6, 21).date())\n",
    "    imputed.loc[imputed.fullName == 'Kathryn Moler',\n",
    "                'birthDate'] = str(datetime(1965, 1, 1).date())\n",
    "    imputed.loc[imputed.fullName == 'Kenneth Young',\n",
    "                'birthDate'] = str(datetime(1947, 1, 1).date())\n",
    "    imputed.loc[imputed.fullName == 'Laura Mersini-Houghton',\n",
    "                'birthDate'] = str(datetime(1969, 1, 1).date())\n",
    "    imputed.loc[imputed.fullName == 'Marcia Barbosa',\n",
    "                'birthDate'] = str(datetime(1960, 1, 14).date())\n",
    "    imputed.loc[imputed.fullName == 'Mark G. Raizen',\n",
    "                'birthDate'] = str(datetime(1955, 1, 1).date())\n",
    "    imputed.loc[imputed.fullName == 'Mehran Kardar',\n",
    "                'birthDate'] = str(datetime(1958, 1, 1).date())\n",
    "    imputed.loc[imputed.fullName == 'Oleg Sushkov',\n",
    "                'birthDate'] = str(datetime(1950, 1, 1).date())\n",
    "    imputed.loc[imputed.fullName == 'Paul Crowell',\n",
    "                'birthDate'] = str(datetime(1965, 1, 1).date())\n",
    "    imputed.loc[imputed.fullName == 'Petr Paucek',\n",
    "                'birthDate'] = str(datetime(1961, 1, 1).date())\n",
    "    imputed.loc[imputed.fullName == 'Rafael Sorkin',\n",
    "                'birthDate'] = str(datetime(1945, 1, 1).date())\n",
    "    imputed.loc[imputed.fullName == 'Raúl Rabadan',\n",
    "                'birthDate'] = str(datetime(1973, 1, 1).date())\n",
    "    imputed.loc[imputed.fullName == 'Ray Mackintosh',\n",
    "                'birthDate'] = str(datetime(1940, 1, 1).date())\n",
    "    imputed.loc[imputed.fullName == 'Richard Clegg',\n",
    "                'birthDate'] = str(datetime(1957, 1, 1).date())\n",
    "    imputed.loc[imputed.fullName ==\n",
    "                'Scott Diddams', 'birthDate'] = str(datetime(1968, 1, 1).date())\n",
    "    imputed.loc[imputed.fullName == 'Willibald Peter Prasthofer',\n",
    "                'birthDate'] = str(datetime(1917, 5, 17).date())\n",
    "    return imputed"
   ]
  },
  {
   "cell_type": "code",
   "execution_count": null,
   "metadata": {},
   "outputs": [],
   "source": [
    "physicists = impute_birth_dates(physicists)"
   ]
  },
  {
   "cell_type": "markdown",
   "metadata": {},
   "source": [
    "OK let's check again to see how many birth dates remain missing."
   ]
  },
  {
   "cell_type": "code",
   "execution_count": null,
   "metadata": {},
   "outputs": [],
   "source": [
    "dead_missing_no_birth_date = physicists[physicists.birthDate.isna()][dates_names]\n",
    "dead_missing_no_birth_date"
   ]
  },
  {
   "cell_type": "markdown",
   "metadata": {},
   "source": [
    "Down to only 3. That's good. Pythagoras is clearly dead! Wikipedia tells me that Karl-Heinrich Riewe dissapeared in controversial circumstances. The less said on that the better. And further research in fact reveals that William R. Kanne died a long time ago. So let's drop these 3 from the list."
   ]
  },
  {
   "cell_type": "code",
   "execution_count": null,
   "metadata": {},
   "outputs": [],
   "source": [
    "physicists = physicists.drop(index=dead_missing_no_birth_date.index)\n",
    "assert(physicists.birthDate.isna().sum() == 0)\n",
    "assert(len(physicists) == 1047)"
   ]
  },
  {
   "cell_type": "markdown",
   "metadata": {},
   "source": [
    "So now every physicist in the list has a birth date. Before I can examine the death dates to remove those who died before the Nobel Prize in Physics was first awarded, I must first deal with a `datetime` python technicality. Python's `datetime` cannot deal with dates before the year 1000 so I remove all physicists born before this date as they are dead. "
   ]
  },
  {
   "cell_type": "code",
   "execution_count": null,
   "metadata": {},
   "outputs": [],
   "source": [
    "born_before_year_1000 = physicists[physicists.birthDate.apply(\n",
    "    lambda d: len(d.split('-')[0]) != 4)][dates_names]\n",
    "born_before_year_1000"
   ]
  },
  {
   "cell_type": "code",
   "execution_count": null,
   "metadata": {},
   "outputs": [],
   "source": [
    "physicists = physicists.drop(index=born_before_year_1000.index)\n",
    "assert(len(physicists) == 1035)"
   ]
  },
  {
   "cell_type": "markdown",
   "metadata": {},
   "source": [
    "Now I can convert the `birthDate` and `deathDate` variables to `datetime` and perform the arithmetic to find those physicists who died before the first Nobel Prize in Physics was awarded."
   ]
  },
  {
   "cell_type": "code",
   "execution_count": null,
   "metadata": {},
   "outputs": [],
   "source": [
    "physicists['birthDate'] = physicists.birthDate.apply(\n",
    "    lambda d: datetime.strptime(d, '%Y-%m-%d').date())\n",
    "physicists['deathDate'] = (physicists[~physicists.deathDate.isna()]\n",
    "                           .deathDate.apply(lambda d: datetime.strptime(\n",
    "                               d, '%Y-%m-%d').date()))"
   ]
  },
  {
   "cell_type": "code",
   "execution_count": null,
   "metadata": {},
   "outputs": [],
   "source": [
    "date_prize_first_awarded = datetime(1901, 12, 10).date()\n",
    "physicists_died_before_prize = physicists[\n",
    "    physicists.deathDate < date_prize_first_awarded][dates_names]\n",
    "with pd.option_context('display.max_rows', 116):\n",
    "    display(physicists_died_before_prize)"
   ]
  },
  {
   "cell_type": "markdown",
   "metadata": {},
   "source": [
    "So let's drop these 116 great physicists as they were never eligible to have been awarded a Nobel prize due to the era that they lived in."
   ]
  },
  {
   "cell_type": "code",
   "execution_count": null,
   "metadata": {},
   "outputs": [],
   "source": [
    "physicists = physicists.drop(index=physicists_died_before_prize.index)\n",
    "assert(len(physicists) == 919)\n",
    "assert(all(physicists.deathDate.isna() |\n",
    "       (physicists.deathDate > date_prize_first_awarded)))"
   ]
  },
  {
   "cell_type": "markdown",
   "metadata": {},
   "source": [
    "## Test Set\n",
    "\n",
    "Now I form the test set from the remaining physicists who are still alive."
   ]
  },
  {
   "cell_type": "code",
   "execution_count": null,
   "metadata": {},
   "outputs": [],
   "source": [
    "test_physicists = physicists[physicists.deathDate.isna()]\n",
    "assert(len(test_physicists) == 379)\n",
    "with pd.option_context('display.max_rows', 379):\n",
    "    display(test_physicists[dates_names])"
   ]
  },
  {
   "cell_type": "markdown",
   "metadata": {},
   "source": [
    "There are 379 physicists in this list. You may have noticed that there is a very famous dead physicist in this list called Stephen Hawking. As I mentioned previously, the DBpedia data is 6-18 months behind the Wikipedia data, so this recent death is not reflected in DBpedia yet. Due to this there may be a few other dead physicists in this list that I do not know of. It's not a big issue, I will just treat them as still alive for the purposes of this study. But it is important to remember that the Nobel Prize in Physics cannot be awarded posthumously."
   ]
  },
  {
   "cell_type": "markdown",
   "metadata": {},
   "source": [
    "## Training Set\n",
    "\n",
    "Now I form the training set from the remaining physicists who are dead, but were still alive, after the Nobel Prize in Physics was first awarded."
   ]
  },
  {
   "cell_type": "code",
   "execution_count": null,
   "metadata": {},
   "outputs": [],
   "source": [
    "train_physicists = physicists[~physicists.deathDate.isna()]\n",
    "assert(len(train_physicists) == 540)\n",
    "with pd.option_context('display.max_rows', 540):\n",
    "    display(train_physicists[dates_names])"
   ]
  },
  {
   "cell_type": "markdown",
   "metadata": {},
   "source": [
    "There are 540 physicists in this list. Let's do a quick sanity check to make sure there is no physicist in both lists. OK everything looks good."
   ]
  },
  {
   "cell_type": "code",
   "execution_count": null,
   "metadata": {},
   "outputs": [],
   "source": [
    "assert(not set(train_physicists.fullName).intersection(set(test_physicists.fullName)))"
   ]
  },
  {
   "cell_type": "markdown",
   "metadata": {},
   "source": [
    "## Persisting the Training and Test Data\n",
    "\n",
    "Now I have the training and test dataframes, I'd like to persist them for later analysis. So I'll write out the contents to a csv file."
   ]
  },
  {
   "cell_type": "code",
   "execution_count": null,
   "metadata": {},
   "outputs": [],
   "source": [
    "train_physicists.to_csv(\n",
    "    '../data/processed/train_notable_physicists_from_1901.csv', index=False)\n",
    "test_physicists.to_csv(\n",
    "    '../data/processed/test_notable_physicists_from_1901.csv', index=False)"
   ]
  },
  {
   "cell_type": "markdown",
   "metadata": {},
   "source": [
    "## Cleaning Up\n",
    "\n",
    "A few clean up steps are needed:\n",
    "\n",
    "- Convert the notebook to a HTML file with all the output.\n",
    "- Convert the notebook to another notebook with the output removed."
   ]
  },
  {
   "cell_type": "code",
   "execution_count": null,
   "metadata": {},
   "outputs": [],
   "source": [
    "!jupyter nbconvert --output-dir html_output --to html 2.1-train-test-split.ipynb"
   ]
  },
  {
   "cell_type": "code",
   "execution_count": null,
   "metadata": {},
   "outputs": [],
   "source": [
    "!jupyter nbconvert --ClearOutputPreprocessor.enabled=True --to notebook 2.1-train-test-split.ipynb"
   ]
  }
 ],
 "metadata": {
  "kernelspec": {
   "display_name": "Python 3",
   "language": "python",
   "name": "python3"
  },
  "language_info": {
   "codemirror_mode": {
    "name": "ipython",
    "version": 3
   },
   "file_extension": ".py",
   "mimetype": "text/x-python",
   "name": "python",
   "nbconvert_exporter": "python",
   "pygments_lexer": "ipython3",
   "version": "3.6.5"
  }
 },
 "nbformat": 4,
 "nbformat_minor": 2
}
