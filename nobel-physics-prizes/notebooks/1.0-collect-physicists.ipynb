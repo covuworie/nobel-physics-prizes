{
 "cells": [
  {
   "cell_type": "markdown",
   "metadata": {},
   "source": [
    "# Collect Physicists\n",
    "\n",
    "For this project, I need a list of physicists who are notable for their achievements. Wikipedia contains two such lists, one general [list of physicists](https://en.wikipedia.org/wiki/List_of_physicists) and another list of [theoretical physicists](https://en.wikipedia.org/wiki/List_of_theoretical_physicists). I will scrape these lists and unify them into a single list. It is important to recognize that some of these physicists have won the *Nobel Prize* and some have not and also that some are *dead* and some are *alive*. You should at least recognize a few of the more famous names in the list even if you do not recognize them all. The entire analysis of this project will be based on the data that is acquired on these physicists. OK time to get scraping."
   ]
  },
  {
   "cell_type": "markdown",
   "metadata": {},
   "source": [
    "## Setting up the Environment\n",
    "\n",
    "A few initialization steps are needed to setup the environment:\n",
    "- An environment variable needs to be set to disable loading of `user-config.py` for *pywikibot*.\n",
    "- The locale needs to be set for all categories to the user’s default setting (typically specified in the LANG environment variable) to enable correct sorting of physicists names with accents.  "
   ]
  },
  {
   "cell_type": "code",
   "execution_count": null,
   "metadata": {},
   "outputs": [],
   "source": [
    "%env PYWIKIBOT_NO_USER_CONFIG=1 # "
   ]
  },
  {
   "cell_type": "code",
   "execution_count": null,
   "metadata": {},
   "outputs": [],
   "source": [
    "%load_ext pycodestyle_magic"
   ]
  },
  {
   "cell_type": "code",
   "execution_count": null,
   "metadata": {},
   "outputs": [],
   "source": [
    "import locale\n",
    "import os\n",
    "\n",
    "import mwparserfromhell\n",
    "import numpy as np\n",
    "import pywikibot"
   ]
  },
  {
   "cell_type": "code",
   "execution_count": null,
   "metadata": {},
   "outputs": [],
   "source": [
    "locale.setlocale(locale.LC_ALL, '')"
   ]
  },
  {
   "cell_type": "markdown",
   "metadata": {},
   "source": [
    "## Scraping the Physicists\n",
    "\n",
    "I use a combination of *pywikibot* and *mwparserfromhell* to scrape the links from the Wikipedia pages. I filter the list of links down to only those containing physicist names. "
   ]
  },
  {
   "cell_type": "code",
   "execution_count": null,
   "metadata": {},
   "outputs": [],
   "source": [
    "def get_notable_physicists():\n",
    "    \"\"\"Get a list of notable physicists.\n",
    "\n",
    "    Returns:\n",
    "        list (str): List of names of notable physicists.\n",
    "\n",
    "    \"\"\"\n",
    "    physicists = _get_physicists()\n",
    "    theoretical_physicists = _get_theoretical_physicists()\n",
    "    notable_physicists = list(set(physicists + theoretical_physicists))\n",
    "    assert(len(notable_physicists) == 1090)\n",
    "    return sorted(notable_physicists, key=locale.strxfrm)\n",
    "\n",
    "\n",
    "def _get_physicists():\n",
    "    wiki_site = pywikibot.Site(code='en', fam='wikipedia')\n",
    "    wiki_page = pywikibot.Page(wiki_site, 'List of physicists')\n",
    "    # Newcastle University is not a physicist\n",
    "    ignore_links = ['Newcastle University']\n",
    "    physicists = _get_linked_pages(wiki_site, wiki_page,\n",
    "                                   ignore_links=ignore_links)\n",
    "    assert(len(physicists) == 978)\n",
    "    return sorted(physicists, key=locale.strxfrm)\n",
    "\n",
    "\n",
    "def _get_linked_pages(site, page, ignore_links=None):\n",
    "    linked_pages = []\n",
    "    for linked_page in page.linkedPages(namespaces=0):\n",
    "        # category pages are unwanted along with other links not about\n",
    "        # a physicist\n",
    "        if linked_page.is_categorypage() or linked_page.title() in ignore_links:\n",
    "            continue\n",
    "        linked_pages.append(linked_page.title())\n",
    "    return linked_pages\n",
    "\n",
    "\n",
    "def _get_theoretical_physicists():\n",
    "    site = pywikibot.Site('en', 'wikipedia')\n",
    "    code = _get_page_wikicode(site, 'List of theoretical physicists')\n",
    "    era = ['ancient times', 'middle ages', 'century']\n",
    "    physicists = _get_linked_pages_in_sections(code, era)\n",
    "    assert(len(physicists) == 267)\n",
    "    return sorted(physicists, key=locale.strxfrm)\n",
    "\n",
    "\n",
    "def _get_page_wikicode(site, page_title):\n",
    "    page = pywikibot.Page(site, page_title)\n",
    "    text = page.get()\n",
    "    return mwparserfromhell.parse(text)\n",
    "\n",
    "\n",
    "def _get_linked_pages_in_sections(wikicode, sections):\n",
    "    linked_pages = []\n",
    "    matches = r'|'.join(sections)\n",
    "    for section in wikicode.get_sections(matches=matches):\n",
    "        for linked_page in section.filter_wikilinks():\n",
    "            # section headings are unwanted\n",
    "            if linked_page.title.lower() in sections:\n",
    "                continue\n",
    "            linked_pages.append(str(linked_page.title))\n",
    "    return linked_pages"
   ]
  },
  {
   "cell_type": "code",
   "execution_count": null,
   "metadata": {},
   "outputs": [],
   "source": [
    "notable_physicists = get_notable_physicists()"
   ]
  },
  {
   "cell_type": "markdown",
   "metadata": {},
   "source": [
    "Let's check that there are no duplicate names and how many names we got."
   ]
  },
  {
   "cell_type": "code",
   "execution_count": null,
   "metadata": {},
   "outputs": [],
   "source": [
    "assert(len(np.unique(notable_physicists)) == len(notable_physicists))\n",
    "len(notable_physicists)"
   ]
  },
  {
   "cell_type": "markdown",
   "metadata": {},
   "source": [
    "Let's write the list to a file for future use and check the list of names. "
   ]
  },
  {
   "cell_type": "code",
   "execution_count": null,
   "metadata": {},
   "outputs": [],
   "source": [
    "def write_list_to_file(file, list_to_write, mode='w'):\n",
    "    \"\"\"Write a list line-by-line to a file on disk.\n",
    "\n",
    "    Args:\n",
    "        file (str): A text or byte string giving the name (and the path\n",
    "            if the file isn't in the current working directory) of the\n",
    "            file to be opened or an integer file descriptor of the file\n",
    "            to be wrapped. See `open()` method in the standard library for\n",
    "            more details.\n",
    "        list_to_write (list): The list of items.\n",
    "        mode (str): Specifies the mode in which the file is opened. See\n",
    "            `open()` method in the standard library for more details.\n",
    "            \n",
    "    \"\"\"\n",
    "\n",
    "    with open(file, mode='w', encoding='utf-8') as list_file:\n",
    "        list_file.writelines('%s\\n' % item for item in list_to_write)"
   ]
  },
  {
   "cell_type": "code",
   "execution_count": null,
   "metadata": {},
   "outputs": [],
   "source": [
    "write_list_to_file('../data/raw/physicists.txt', notable_physicists)"
   ]
  },
  {
   "cell_type": "code",
   "execution_count": null,
   "metadata": {},
   "outputs": [],
   "source": [
    "assert(os.path.isfile('../data/raw/physicists.txt'))\n",
    "%pycat ../data/raw/physicists.txt"
   ]
  },
  {
   "cell_type": "markdown",
   "metadata": {},
   "source": [
    "## Cleaning Up\n",
    "\n",
    "A few clean up steps are needed:\n",
    "\n",
    "- Unset the environment variable that was set above.\n",
    "- Convert the notebook to a HTML file with all the output.\n",
    "- Convert the notebook to another notebook with the output removed."
   ]
  },
  {
   "cell_type": "code",
   "execution_count": null,
   "metadata": {},
   "outputs": [],
   "source": [
    "del os.environ['PYWIKIBOT_NO_USER_CONFIG']"
   ]
  },
  {
   "cell_type": "code",
   "execution_count": null,
   "metadata": {},
   "outputs": [],
   "source": [
    "!jupyter nbconvert --ClearOutputPreprocessor.enabled=False --output-dir html_output --to html 1.0-collect-physicists.ipynb"
   ]
  },
  {
   "cell_type": "code",
   "execution_count": null,
   "metadata": {},
   "outputs": [],
   "source": [
    "!jupyter nbconvert --ClearOutputPreprocessor.enabled=True --to notebook 1.0-collect-physicists.ipynb"
   ]
  }
 ],
 "metadata": {
  "kernelspec": {
   "display_name": "Python 3",
   "language": "python",
   "name": "python3"
  },
  "language_info": {
   "codemirror_mode": {
    "name": "ipython",
    "version": 3
   },
   "file_extension": ".py",
   "mimetype": "text/x-python",
   "name": "python",
   "nbconvert_exporter": "python",
   "pygments_lexer": "ipython3",
   "version": "3.6.5"
  }
 },
 "nbformat": 4,
 "nbformat_minor": 2
}
