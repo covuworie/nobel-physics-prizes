{
 "cells": [
  {
   "cell_type": "code",
   "execution_count": null,
   "metadata": {},
   "outputs": [],
   "source": [
    "import ipytest\n",
    "import pytest"
   ]
  },
  {
   "cell_type": "code",
   "execution_count": null,
   "metadata": {},
   "outputs": [],
   "source": [
    "PYTEST_OPTIONS = ['-v', '--color=yes']"
   ]
  },
  {
   "cell_type": "code",
   "execution_count": null,
   "metadata": {},
   "outputs": [],
   "source": [
    "@pytest.fixture\n",
    "def expected_reverse_geocode_places():\n",
    "    expected = pd.DataFrame([\n",
    "        [48.832222, 2.355556, 'FR'],\n",
    "        [np.nan, np.nan, np.nan],\n",
    "        [48.832222, np.nan, np.nan],\n",
    "        [np.nan, 2.355556, np.nan]\n",
    "    ])\n",
    "    expected.columns = ['lat', 'long', 'countryAlpha2Code']\n",
    "    return expected\n",
    "\n",
    "\n",
    "@pytest.fixture\n",
    "def expected_alpha2_to_codes_names():\n",
    "    expected = pd.DataFrame([\n",
    "        ['FR', 'France', 'FRA', 'EU', 'Europe'],\n",
    "        ['TF', np.nan, np.nan, np.nan, np.nan],\n",
    "        ['VA', np.nan, np.nan, np.nan, np.nan],\n",
    "        ['US|GB', 'United Kingdom|United States', 'GBR|USA',\n",
    "         'EU|NA', 'Europe|North America'],\n",
    "        [np.nan, np.nan, np.nan, np.nan, np.nan]\n",
    "    ])\n",
    "    expected.columns = ['countryAlpha2Code', 'countryName',\n",
    "                        'countryAlpha3Code', 'continentCode', 'continentName']\n",
    "    return expected"
   ]
  },
  {
   "cell_type": "code",
   "execution_count": null,
   "metadata": {},
   "outputs": [],
   "source": [
    "ipytest.clean_tests(\"test_reverse_geocode*\")\n",
    "ipytest.clean_tests(\"test_country_to_alpha2_code*\")\n",
    "ipytest.clean_tests(\"test_alpha2_to_codes_names*\")\n",
    "\n",
    "\n",
    "def test_reverse_geocode(expected_reverse_geocode_places):\n",
    "    places = expected_reverse_geocode_places.drop('countryAlpha2Code', axis=1)\n",
    "    assert(reverse_geocode(places).equals(expected_reverse_geocode_places))\n",
    "\n",
    "\n",
    "def test_country_to_alpha2_code_single_country():\n",
    "    text = 'France'\n",
    "    alpha2 = country_to_alpha2_code(text)\n",
    "    assert(alpha2 == 'FR')\n",
    "    \n",
    "\n",
    "def test_country_to_alpha2_code_multiple_country_sorted():\n",
    "    text = 'United States|Canada'\n",
    "    alpha2 = country_to_alpha2_code(text)\n",
    "    assert(alpha2 == 'CA|US')\n",
    "    \n",
    "\n",
    "def test_country_to_alpha2_code_unknown_country():\n",
    "    text = 'XYZ'\n",
    "    alpha2 = country_to_alpha2_code(text)\n",
    "    assert(np.isnan(alpha2))\n",
    "    \n",
    "    \n",
    "def test_country_to_alpha2_code_single_gpe():\n",
    "    text = 'Colony of New Zealand'\n",
    "    alpha2 = country_to_alpha2_code(text)\n",
    "    assert(alpha2 == 'NZ')\n",
    "    \n",
    "\n",
    "def test_country_to_alpha2_code_multiple_gpe():\n",
    "    text = 'Nazi Germany|Colony of New Zealand'\n",
    "    alpha2 = country_to_alpha2_code(text)\n",
    "    assert(alpha2 == 'DE|NZ')\n",
    "\n",
    "        \n",
    "def test_alpha2_to_codes_names(expected_alpha2_to_codes_names):\n",
    "    places = expected_alpha2_to_codes_names[['countryAlpha2Code']]\n",
    "    assert(alpha2_to_codes_names(places).equals(\n",
    "        expected_alpha2_to_codes_names))\n",
    "\n",
    "\n",
    "ipytest.run_pytest(\n",
    "    filename='../../tests/test_2.4-reverse-geocode-places-interim-data.ipynb',\n",
    "    pytest_options=PYTEST_OPTIONS)"
   ]
  }
 ],
 "metadata": {
  "kernelspec": {
   "display_name": "Python 3",
   "language": "python",
   "name": "python3"
  },
  "language_info": {
   "codemirror_mode": {
    "name": "ipython",
    "version": 3
   },
   "file_extension": ".py",
   "mimetype": "text/x-python",
   "name": "python",
   "nbconvert_exporter": "python",
   "pygments_lexer": "ipython3",
   "version": "3.6.5"
  }
 },
 "nbformat": 4,
 "nbformat_minor": 2
}
