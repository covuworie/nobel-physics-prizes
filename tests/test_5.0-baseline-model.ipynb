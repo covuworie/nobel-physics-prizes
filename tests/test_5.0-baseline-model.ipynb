{
 "cells": [
  {
   "cell_type": "code",
   "execution_count": null,
   "metadata": {},
   "outputs": [],
   "source": [
    "import ipytest\n",
    "import pytest"
   ]
  },
  {
   "cell_type": "code",
   "execution_count": null,
   "metadata": {},
   "outputs": [],
   "source": [
    "PYTEST_OPTIONS = ['-v', '--color=yes']"
   ]
  },
  {
   "cell_type": "code",
   "execution_count": null,
   "metadata": {},
   "outputs": [],
   "source": [
    "@pytest.fixture\n",
    "def expected_majority_class_predict():\n",
    "    expected = pd.Series(data=[1, 1, 1])\n",
    "    return expected"
   ]
  },
  {
   "cell_type": "code",
   "execution_count": null,
   "metadata": {},
   "outputs": [],
   "source": [
    "ipytest.clean_tests(\"test_build_target*\")\n",
    "\n",
    "\n",
    "def test_majority_class_predict(expected_majority_class_predict):\n",
    "    target = pd.Series(data=[1, 1, 0])\n",
    "    target_majority = majority_class_predict(target)\n",
    "    assert(target_majority.equals(expected_majority_class_predict))\n",
    "\n",
    "\n",
    "ipytest.run_pytest(\n",
    "    filename='../../tests/test_5.0-baseline-model.ipynb',\n",
    "    pytest_options=PYTEST_OPTIONS)"
   ]
  }
 ],
 "metadata": {
  "kernelspec": {
   "display_name": "Python 3",
   "language": "python",
   "name": "python3"
  },
  "language_info": {
   "codemirror_mode": {
    "name": "ipython",
    "version": 3
   },
   "file_extension": ".py",
   "mimetype": "text/x-python",
   "name": "python",
   "nbconvert_exporter": "python",
   "pygments_lexer": "ipython3",
   "version": "3.6.5"
  }
 },
 "nbformat": 4,
 "nbformat_minor": 2
}
