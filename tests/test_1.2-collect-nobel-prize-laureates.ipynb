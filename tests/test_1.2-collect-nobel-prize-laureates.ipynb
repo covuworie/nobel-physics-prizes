{
 "cells": [
  {
   "cell_type": "code",
   "execution_count": null,
   "metadata": {},
   "outputs": [],
   "source": [
    "import ipytest\n",
    "import pandas as pd\n",
    "import pytest"
   ]
  },
  {
   "cell_type": "code",
   "execution_count": null,
   "metadata": {},
   "outputs": [],
   "source": [
    "PYTEST_OPTIONS = ['-v', '--color=yes']"
   ]
  },
  {
   "cell_type": "code",
   "execution_count": null,
   "metadata": {},
   "outputs": [],
   "source": [
    "@pytest.fixture\n",
    "def cleaned_physics_nobel_laureates():\n",
    "    return pd.read_csv('../data/raw/nobel-physics-prize-laureates.csv')\n",
    "\n",
    "\n",
    "@pytest.fixture\n",
    "def cleaned_chemistry_nobel_laureates():\n",
    "    return pd.read_csv('../data/raw/nobel-chemistry-prize-laureates.csv')\n",
    "\n",
    "\n",
    "@pytest.fixture\n",
    "def dirty_physics_nobel_laureates():\n",
    "    return get_nobel_laureates(title='List of Nobel laureates in Physics')\n",
    "\n",
    "\n",
    "@pytest.fixture\n",
    "def dirty_chemistry_nobel_laureates():\n",
    "    return get_nobel_laureates(title='List of Nobel laureates in Chemistry')"
   ]
  },
  {
   "cell_type": "code",
   "execution_count": null,
   "metadata": {},
   "outputs": [],
   "source": [
    "ipytest.clean_tests(\"test_normalize_winners_dataframe*\")\n",
    "\n",
    "\n",
    "def test_clean_laureates_dataframe_physicists(dirty_physics_nobel_laureates,\n",
    "                                              cleaned_physics_nobel_laureates):\n",
    "    laureates = clean_laureates_dataframe(dirty_physics_nobel_laureates)\n",
    "    assert(laureates.equals(cleaned_physics_nobel_laureates))\n",
    "\n",
    "\n",
    "def test_clean_laureates_dataframe_chemists(dirty_chemistry_nobel_laureates,\n",
    "                                            cleaned_chemistry_nobel_laureates):\n",
    "    laureates = clean_laureates_dataframe(dirty_chemistry_nobel_laureates)\n",
    "    assert(laureates.equals(cleaned_chemistry_nobel_laureates))\n",
    "\n",
    "\n",
    "ipytest.run_pytest(\n",
    "    filename='../../tests/test_1.2-collect-nobel-prize-laureates.ipynb',\n",
    "    pytest_options=PYTEST_OPTIONS)"
   ]
  },
  {
   "cell_type": "code",
   "execution_count": null,
   "metadata": {},
   "outputs": [],
   "source": [
    "!jupyter nbconvert --ClearOutputPreprocessor.enabled=False --output-dir ../../tests/html_output --to html ../../tests/test_1.2-collect-nobel-prize-laureates.ipynb"
   ]
  },
  {
   "cell_type": "code",
   "execution_count": null,
   "metadata": {},
   "outputs": [],
   "source": [
    "!jupyter nbconvert --ClearOutputPreprocessor.enabled=True --to notebook ../../tests/test_1.2-collect-nobel-prize-laureates.ipynb"
   ]
  }
 ],
 "metadata": {
  "kernelspec": {
   "display_name": "Python 3",
   "language": "python",
   "name": "python3"
  },
  "language_info": {
   "codemirror_mode": {
    "name": "ipython",
    "version": 3
   },
   "file_extension": ".py",
   "mimetype": "text/x-python",
   "name": "python",
   "nbconvert_exporter": "python",
   "pygments_lexer": "ipython3",
   "version": "3.6.5"
  }
 },
 "nbformat": 4,
 "nbformat_minor": 2
}
