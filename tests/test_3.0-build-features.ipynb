{
 "cells": [
  {
   "cell_type": "code",
   "execution_count": null,
   "metadata": {},
   "outputs": [],
   "source": [
    "import ipytest\n",
    "import pytest\n",
    "\n",
    "import pandas as pd"
   ]
  },
  {
   "cell_type": "code",
   "execution_count": null,
   "metadata": {},
   "outputs": [],
   "source": [
    "PYTEST_OPTIONS = ['-v', '--color=yes']"
   ]
  },
  {
   "cell_type": "code",
   "execution_count": null,
   "metadata": {},
   "outputs": [],
   "source": [
    "@pytest.fixture\n",
    "def expected_gender():\n",
    "    return pd.Series([\n",
    "        '1',\n",
    "        '0',\n",
    "    ],\n",
    "    dtype='int64',\n",
    "    name='gender')"
   ]
  },
  {
   "cell_type": "code",
   "execution_count": null,
   "metadata": {},
   "outputs": [],
   "source": [
    "ipytest.clean_tests(\"test_build_features*\")\n",
    "\n",
    "\n",
    "def test_build_features_gender(expected_gender):\n",
    "    gender = pd.Series(['male', 'female'])\n",
    "    assert(_build_gender(gender).equals(expected_gender))\n",
    "                     \n",
    "\n",
    "ipytest.run_pytest(\n",
    "    filename='../../tests/test_3.0-build-features.ipynb',\n",
    "    pytest_options=PYTEST_OPTIONS)"
   ]
  },
  {
   "cell_type": "code",
   "execution_count": null,
   "metadata": {},
   "outputs": [],
   "source": [
    "!jupyter nbconvert --output-dir ../../tests/html_output --to html ../../tests/test_3.0-build-features.ipynb"
   ]
  },
  {
   "cell_type": "code",
   "execution_count": null,
   "metadata": {},
   "outputs": [],
   "source": [
    "!jupyter nbconvert --ClearOutputPreprocessor.enabled=True --to notebook ../../tests/test_3.0-build-features.ipynb"
   ]
  }
 ],
 "metadata": {
  "kernelspec": {
   "display_name": "Python 3",
   "language": "python",
   "name": "python3"
  },
  "language_info": {
   "codemirror_mode": {
    "name": "ipython",
    "version": 3
   },
   "file_extension": ".py",
   "mimetype": "text/x-python",
   "name": "python",
   "nbconvert_exporter": "python",
   "pygments_lexer": "ipython3",
   "version": "3.6.5"
  }
 },
 "nbformat": 4,
 "nbformat_minor": 2
}
