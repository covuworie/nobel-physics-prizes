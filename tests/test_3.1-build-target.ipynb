{
 "cells": [
  {
   "cell_type": "code",
   "execution_count": null,
   "metadata": {},
   "outputs": [],
   "source": [
    "import ipytest\n",
    "import pytest"
   ]
  },
  {
   "cell_type": "code",
   "execution_count": null,
   "metadata": {},
   "outputs": [],
   "source": [
    "PYTEST_OPTIONS = ['-v', '--color=yes']"
   ]
  },
  {
   "cell_type": "code",
   "execution_count": null,
   "metadata": {},
   "outputs": [],
   "source": [
    "@pytest.fixture\n",
    "def expected_train_target():\n",
    "    expected = train_physicists.fullName.apply(\n",
    "        lambda name: 'yes' if name in nobel_physicists.Laureate.values else 'no')\n",
    "    expected.name = 'physics_laureate'\n",
    "    return expected\n",
    "\n",
    "\n",
    "@pytest.fixture\n",
    "def expected_test_target():\n",
    "    expected = test_physicists.fullName.apply(\n",
    "        lambda name: 'yes' if name in nobel_physicists.Laureate.values else 'no')\n",
    "    expected.name = 'physics_laureate'\n",
    "    return expected"
   ]
  },
  {
   "cell_type": "code",
   "execution_count": null,
   "metadata": {},
   "outputs": [],
   "source": [
    "ipytest.clean_tests(\"test_build_target*\")\n",
    "\n",
    "\n",
    "def test_build_target_train(expected_train_target):\n",
    "    target = build_target(train_physicists.fullName, nobel_physicists.Laureate)\n",
    "    assert(target.equals(expected_train_target))\n",
    "    \n",
    "    \n",
    "def test_build_target_test(expected_test_target):\n",
    "    target = build_target(test_physicists.fullName, nobel_physicists.Laureate)\n",
    "    assert(target.equals(expected_test_target))\n",
    "\n",
    "\n",
    "ipytest.run_pytest(\n",
    "    filename='../../tests/test_3.1-build-target.ipynb',\n",
    "    pytest_options=PYTEST_OPTIONS)"
   ]
  }
 ],
 "metadata": {
  "kernelspec": {
   "display_name": "Python 3",
   "language": "python",
   "name": "python3"
  },
  "language_info": {
   "codemirror_mode": {
    "name": "ipython",
    "version": 3
   },
   "file_extension": ".py",
   "mimetype": "text/x-python",
   "name": "python",
   "nbconvert_exporter": "python",
   "pygments_lexer": "ipython3",
   "version": "3.6.5"
  }
 },
 "nbformat": 4,
 "nbformat_minor": 2
}
