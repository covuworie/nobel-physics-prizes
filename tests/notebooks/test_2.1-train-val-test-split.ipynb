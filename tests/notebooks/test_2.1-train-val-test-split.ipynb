{
 "cells": [
  {
   "cell_type": "code",
   "execution_count": null,
   "metadata": {},
   "outputs": [],
   "source": [
    "import ipytest\n",
    "import ipytest.magics\n",
    "import pandas as pd\n",
    "import pytest\n",
    "\n",
    "ipytest.config.rewrite_asserts = True\n",
    "\n",
    "__file__ = '../../tests/notebooks/test_2.1-train-val-test-split.ipynb'"
   ]
  },
  {
   "cell_type": "code",
   "execution_count": null,
   "metadata": {},
   "outputs": [],
   "source": [
    "%%run_pytest[clean] -v --color=yes\n",
    "\n",
    "def test_train_validation_test_split_train():\n",
    "    train = pd.read_csv('../data/processed/train-physicists-from-1901.csv')\n",
    "    assert(all(train.deathDate.notna()))\n",
    "    assert(all(train.deathDate.apply(\n",
    "        lambda d: datetime.strptime(d, '%Y-%m-%d').date()) > date_prize_first_awarded))\n",
    "    \n",
    "\n",
    "def test_train_validation_test_split_validation_and_test():\n",
    "    validation = pd.read_csv('../data/processed/validation-physicists-from-1901.csv')\n",
    "    test = pd.read_csv('../data/processed/test-physicists-from-1901.csv')\n",
    "    validation_and_test = validation.append(test)\n",
    "    assert(all(validation_and_test.deathDate.isna()))\n",
    "    assert(all(validation_and_test.birthDate.apply(\n",
    "        lambda d: datetime.strptime(d, '%Y-%m-%d').date()) > date_prize_first_awarded))"
   ]
  }
 ],
 "metadata": {
  "kernelspec": {
   "display_name": "Python 3",
   "language": "python",
   "name": "python3"
  },
  "language_info": {
   "codemirror_mode": {
    "name": "ipython",
    "version": 3
   },
   "file_extension": ".py",
   "mimetype": "text/x-python",
   "name": "python",
   "nbconvert_exporter": "python",
   "pygments_lexer": "ipython3",
   "version": "3.6.5"
  }
 },
 "nbformat": 4,
 "nbformat_minor": 2
}
