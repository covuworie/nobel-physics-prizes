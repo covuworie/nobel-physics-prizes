{
 "cells": [
  {
   "cell_type": "code",
   "execution_count": null,
   "metadata": {},
   "outputs": [],
   "source": [
    "import ipytest\n",
    "import ipytest.magics\n",
    "import pytest\n",
    "\n",
    "ipytest.config.rewrite_asserts = True\n",
    "\n",
    "__file__ =  '../../tests/notebooks/test_3.1-build-target.ipynb'"
   ]
  },
  {
   "cell_type": "code",
   "execution_count": null,
   "metadata": {},
   "outputs": [],
   "source": [
    "@pytest.fixture\n",
    "def expected_train_target():\n",
    "    expected = train_physicists.fullName.to_frame(name='full_name')\n",
    "    expected['physics_laureate'] = expected.full_name.apply(\n",
    "        lambda name: 'yes' if name in nobel_physicists.Laureate.values else 'no')\n",
    "    expected = expected.set_index('full_name')['physics_laureate']\n",
    "    return expected\n",
    "\n",
    "\n",
    "@pytest.fixture\n",
    "def expected_validation_target():\n",
    "    expected = validation_physicists.fullName.to_frame(name='full_name')\n",
    "    expected['physics_laureate'] = expected.full_name.apply(\n",
    "        lambda name: 'yes' if name in nobel_physicists.Laureate.values else 'no')\n",
    "    expected = expected.set_index('full_name')['physics_laureate']\n",
    "    return expected\n",
    "\n",
    "\n",
    "@pytest.fixture\n",
    "def expected_test_target():\n",
    "    expected = ttest_physicists.fullName.to_frame(name='full_name')\n",
    "    expected['physics_laureate'] = expected.full_name.apply(\n",
    "        lambda name: 'yes' if name in nobel_physicists.Laureate.values else 'no')\n",
    "    expected = expected.set_index('full_name')['physics_laureate']\n",
    "    return expected"
   ]
  },
  {
   "cell_type": "code",
   "execution_count": null,
   "metadata": {},
   "outputs": [],
   "source": [
    "%%run_pytest[clean] -v --color=yes\n",
    "\n",
    "def test_build_target_train(expected_train_target):\n",
    "    target = build_target(train_physicists.fullName, nobel_physicists.Laureate)\n",
    "    assert(target.equals(expected_train_target))\n",
    "    \n",
    "\n",
    "def test_build_target_validation(expected_validation_target):\n",
    "    target = build_target(validation_physicists.fullName, nobel_physicists.Laureate)\n",
    "    assert(target.equals(expected_validation_target))\n",
    "    \n",
    "    \n",
    "def test_build_target_test(expected_test_target):\n",
    "    target = build_target(ttest_physicists.fullName, nobel_physicists.Laureate)\n",
    "    assert(target.equals(expected_test_target))"
   ]
  }
 ],
 "metadata": {
  "kernelspec": {
   "display_name": "Python 3",
   "language": "python",
   "name": "python3"
  },
  "language_info": {
   "codemirror_mode": {
    "name": "ipython",
    "version": 3
   },
   "file_extension": ".py",
   "mimetype": "text/x-python",
   "name": "python",
   "nbconvert_exporter": "python",
   "pygments_lexer": "ipython3",
   "version": "3.6.5"
  }
 },
 "nbformat": 4,
 "nbformat_minor": 2
}
